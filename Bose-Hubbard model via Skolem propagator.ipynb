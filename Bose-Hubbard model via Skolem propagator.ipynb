{
 "cells": [
  {
   "cell_type": "markdown",
   "id": "1bcd33db",
   "metadata": {},
   "source": [
    "# Bose Hubbard model via Skolem Tridiagonalization "
   ]
  },
  {
   "cell_type": "code",
   "execution_count": 2,
   "id": "9ec8bce5",
   "metadata": {},
   "outputs": [],
   "source": [
    "import os\n",
    "\n",
    "threads = 1\n",
    "os.environ['NUMEXPR_MAX_THREADS'] = '{}'.format(threads)\n",
    "os.environ['NUMEXPR_NUM_THREADS'] = '{}'.format(threads)\n",
    "os.environ['OMP_NUM_THREADS'] = '{}'.format(threads)\n",
    "os.environ['MKL_NUM_THREADS'] = '{}'.format(threads)"
   ]
  },
  {
   "cell_type": "code",
   "execution_count": 189,
   "id": "9768cd64",
   "metadata": {},
   "outputs": [],
   "source": [
    "import numpy as np\n",
    "import matplotlib.pyplot as plt\n",
    "\n",
    "from scipy.linalg import eigh_tridiagonal, norm, hankel\n",
    "from scipy.sparse import block_diag\n",
    "\n",
    "# from tqdm.notebook import tqdm, trange\n",
    "import time\n",
    "\n",
    "from skolem_util import skolem, tuple_from_skolem\n",
    "\n",
    "#from quspin.operators import hamiltonian # Hamiltonians and operators\n",
    "#from quspin.basis import boson_basis_1d # Hilbert space boson basis"
   ]
  },
  {
   "cell_type": "markdown",
   "id": "a33e0483",
   "metadata": {},
   "source": [
    "## Number theoretical tools: The Skolem polynomials and its inverse"
   ]
  },
  {
   "cell_type": "code",
   "execution_count": null,
   "id": "1d8b4f4a",
   "metadata": {},
   "outputs": [],
   "source": []
  },
  {
   "cell_type": "markdown",
   "id": "3f4b4943",
   "metadata": {},
   "source": [
    "## Parameters of the 3 sites Bose Hubbard model and propagation"
   ]
  },
  {
   "cell_type": "code",
   "execution_count": 244,
   "id": "36391592",
   "metadata": {},
   "outputs": [],
   "source": [
    "U = 1\n",
    "J = 1\n",
    "mu = 0\n",
    "\n",
    "# number of bosons\n",
    "N = 5\n",
    "\n",
    "# time-step for propagation \n",
    "Δt = 0.01\n",
    "\n",
    "# times to save wavefunctions\n",
    "times = Δt * np.arange(100)\n",
    "\n",
    "\n",
    "K = 3\n"
   ]
  },
  {
   "cell_type": "markdown",
   "id": "4a4e3adf",
   "metadata": {},
   "source": [
    "## Using the Skolem for building the propagator  the Bose Hubbard model "
   ]
  },
  {
   "cell_type": "raw",
   "id": "3e108998",
   "metadata": {},
   "source": [
    "# open boundary condition\n",
    "q = np.arange(K)\n",
    "shuffles = hankel(q[:-1], np.roll(q, 2))\n",
    "\n",
    "# # periodic boundary condition\n",
    "# q = np.arange(K)\n",
    "# shuffles = hankel(q, np.roll(q, 1))\n",
    "\n",
    "indx = [\n",
    "    [skolem(_) for _ in n[s].T] for s in shuffles\n",
    "]\n",
    "indx = np.array(indx)"
   ]
  },
  {
   "cell_type": "code",
   "execution_count": 252,
   "id": "39c5de28",
   "metadata": {},
   "outputs": [],
   "source": [
    "t0 = time.time()\n",
    "\n",
    "# the cut off of Skolem index\n",
    "S_min = skolem((K - 1) * [0] + [N])\n",
    "S_max = skolem([N] + (K - 1) * [0])\n",
    "\n",
    "skolem_indx = np.arange(S_min, S_max + 1)\n",
    "\n",
    "# This ordering is to be compartible with QuSpin,\n",
    "# for example, in the case of K = 3,\n",
    "#    n3, n2, n1 = n\n",
    "# In other words, n[0] is the last n in QuSpin\n",
    "n = np.array(\n",
    "    [tuple_from_skolem(S, K) for S in skolem_indx]\n",
    ").T\n",
    "n = n[::-1]\n",
    "\n",
    "########################################################\n",
    "# Reindexing to implement the permutation matrix \n",
    "# to bring the neighboring site to tridiagonal form.\n",
    "########################################################\n",
    "\n",
    "indx = np.array([\n",
    "    skolem(_) for _ in n[np.roll(np.arange(K), -1)].T\n",
    "])\n",
    "indx -= S_min\n",
    "\n"
   ]
  },
  {
   "cell_type": "code",
   "execution_count": 253,
   "id": "40deac91",
   "metadata": {},
   "outputs": [],
   "source": [
    "# the cut off of Skolem index\n",
    "S_min = skolem([0, 0, N])\n",
    "S_max = skolem([N, 0, 0])\n",
    "\n",
    "skolem_321 = np.arange(S_min, S_max + 1)\n",
    "\n",
    "# This ordering is to be compartible with QuSpin\n",
    "n3, n2, n1 = np.array(\n",
    "    [tuple_from_skolem(S, 3) for S in skolem_321]\n",
    ").T\n",
    "\n",
    "## Reindex (n3, n2, n1) <-> (n1, n2, n3)\n",
    "indx_old = np.array([\n",
    "    skolem(_) for _ in zip(n1, n2, n3)\n",
    "]) - S_min"
   ]
  },
  {
   "cell_type": "code",
   "execution_count": 281,
   "id": "2a859cdc",
   "metadata": {},
   "outputs": [
    {
     "data": {
      "text/plain": [
       "array([1, 2, 3, 0])"
      ]
     },
     "execution_count": 281,
     "metadata": {},
     "output_type": "execute_result"
    }
   ],
   "source": [
    "np.roll(np.arange(K), -1)"
   ]
  },
  {
   "cell_type": "code",
   "execution_count": 243,
   "id": "832e246e",
   "metadata": {},
   "outputs": [
    {
     "data": {
      "text/plain": [
       "array([2, 0, 1])"
      ]
     },
     "execution_count": 243,
     "metadata": {},
     "output_type": "execute_result"
    }
   ],
   "source": [
    "np.roll(np.arange(K), -K + 1)"
   ]
  },
  {
   "cell_type": "code",
   "execution_count": 271,
   "id": "f5881696",
   "metadata": {},
   "outputs": [
    {
     "data": {
      "text/plain": [
       "array([0, 1, 2, 3])"
      ]
     },
     "execution_count": 271,
     "metadata": {},
     "output_type": "execute_result"
    }
   ],
   "source": [
    "K = 4\n",
    "q = np.arange(K)\n",
    "q"
   ]
  },
  {
   "cell_type": "code",
   "execution_count": 282,
   "id": "0dd4d893",
   "metadata": {},
   "outputs": [],
   "source": [
    "c = np.roll(np.arange(K),-1)\n"
   ]
  },
  {
   "cell_type": "code",
   "execution_count": 284,
   "id": "172e4050",
   "metadata": {},
   "outputs": [
    {
     "data": {
      "text/plain": [
       "array([2, 3, 0, 1])"
      ]
     },
     "execution_count": 284,
     "metadata": {},
     "output_type": "execute_result"
    }
   ],
   "source": [
    "q[c][c]"
   ]
  },
  {
   "cell_type": "code",
   "execution_count": 286,
   "id": "3eef5be3",
   "metadata": {},
   "outputs": [
    {
     "data": {
      "text/plain": [
       "3"
      ]
     },
     "execution_count": 286,
     "metadata": {},
     "output_type": "execute_result"
    }
   ],
   "source": [
    "K - 1"
   ]
  },
  {
   "cell_type": "code",
   "execution_count": 280,
   "id": "104f0f1f",
   "metadata": {},
   "outputs": [
    {
     "data": {
      "text/plain": [
       "array([2, 3, 0, 1])"
      ]
     },
     "execution_count": 280,
     "metadata": {},
     "output_type": "execute_result"
    }
   ],
   "source": [
    "np.roll(np.roll(np.roll(q, -1), 1), -2)"
   ]
  },
  {
   "cell_type": "markdown",
   "id": "45aba3a8",
   "metadata": {},
   "source": [
    "### Get $\\exp(-i\\Delta t \\hat{H}_{23})$ via block tridiagonalization"
   ]
  },
  {
   "cell_type": "code",
   "execution_count": 247,
   "id": "b34dddfd",
   "metadata": {},
   "outputs": [],
   "source": [
    "# diagonal of the full tri-diagonal Hamiltonian H23\n",
    "d = 0.25 * U * n2 * (n2 - 1) - 0.5 * mu * n2 + 0.5 * U * n3 * (n3 - 1) - mu * n3\n",
    "\n",
    "# off diagonal of the full tri-diagonal Hamiltonian H23\n",
    "e = -J * np.sqrt((n2 + 1) * n3)[1:]\n",
    "\n",
    "start_block = 0\n",
    "\n",
    "# Find the edges of the blocks. They are found when the off-diagonals have zeros   \n",
    "block_edges = np.where(e == 0)[0] + 1\n",
    "\n",
    "if block_edges[-1] != d.size:\n",
    "    block_edges = np.append(block_edges, [d.size])\n",
    "\n",
    "expH_23 = []\n",
    "\n",
    "# Find matrix exponential via diagonalization of each block separately\n",
    "for end_block in block_edges:\n",
    "    block_E_23, block_v = eigh_tridiagonal(\n",
    "        d[start_block:end_block],\n",
    "        e[start_block:end_block - 1],\n",
    "    )\n",
    "    \n",
    "    expH_23.append(\n",
    "        (block_v * np.exp(-1j * Δt * block_E_23)) @ block_v.T\n",
    "    )\n",
    "\n",
    "    start_block = end_block\n",
    "    \n",
    "# Save as a sparse matrix\n",
    "expH_23 = block_diag(expH_23)\n",
    "\n",
    "# Save time it took to initialize the Skolem propagator \n",
    "time_prepare_skolem = time.time() - t0"
   ]
  },
  {
   "cell_type": "markdown",
   "id": "7a96399a",
   "metadata": {},
   "source": [
    "## QuSpin\n",
    "\n",
    "Comparing the implementation of the Bose-Hubbard Model in the QuSpin library by following: https://github.com/weinbe58/QuSpin/blob/master/examples/notebooks/BHM.ipynb"
   ]
  },
  {
   "cell_type": "code",
   "execution_count": 248,
   "id": "628e65ea",
   "metadata": {
    "scrolled": true
   },
   "outputs": [
    {
     "ename": "NameError",
     "evalue": "name 'boson_basis_1d' is not defined",
     "output_type": "error",
     "traceback": [
      "\u001b[0;31m---------------------------------------------------------------------------\u001b[0m",
      "\u001b[0;31mNameError\u001b[0m                                 Traceback (most recent call last)",
      "Cell \u001b[0;32mIn[248], line 4\u001b[0m\n\u001b[1;32m      1\u001b[0m \u001b[38;5;66;03m##### construct Bose-Hubbard Hamiltonian #####\u001b[39;00m\n\u001b[1;32m      2\u001b[0m \u001b[38;5;66;03m# define boson basis with N states per site L bosons in the lattice\u001b[39;00m\n\u001b[1;32m      3\u001b[0m L \u001b[38;5;241m=\u001b[39m \u001b[38;5;241m3\u001b[39m\n\u001b[0;32m----> 4\u001b[0m basis \u001b[38;5;241m=\u001b[39m \u001b[43mboson_basis_1d\u001b[49m(\u001b[38;5;241m3\u001b[39m, Nb\u001b[38;5;241m=\u001b[39mN) \u001b[38;5;66;03m# full boson basis\u001b[39;00m\n\u001b[1;32m      6\u001b[0m \u001b[38;5;66;03m# define site-coupling lists\u001b[39;00m\n\u001b[1;32m      7\u001b[0m \u001b[38;5;66;03m#hop=[[-J,i,(i+1)%L] for i in range(L)] #PBC\u001b[39;00m\n\u001b[1;32m      8\u001b[0m hop\u001b[38;5;241m=\u001b[39m[[\u001b[38;5;241m-\u001b[39mJ,i,(i\u001b[38;5;241m+\u001b[39m\u001b[38;5;241m1\u001b[39m)\u001b[38;5;241m%\u001b[39mL] \u001b[38;5;28;01mfor\u001b[39;00m i \u001b[38;5;129;01min\u001b[39;00m \u001b[38;5;28mrange\u001b[39m(L \u001b[38;5;241m-\u001b[39m \u001b[38;5;241m1\u001b[39m)] \u001b[38;5;66;03m# open boundary condition\u001b[39;00m\n",
      "\u001b[0;31mNameError\u001b[0m: name 'boson_basis_1d' is not defined"
     ]
    }
   ],
   "source": [
    "##### construct Bose-Hubbard Hamiltonian #####\n",
    "# define boson basis with N states per site L bosons in the lattice\n",
    "L = 3\n",
    "basis = boson_basis_1d(3, Nb=N) # full boson basis\n",
    "\n",
    "# define site-coupling lists\n",
    "#hop=[[-J,i,(i+1)%L] for i in range(L)] #PBC\n",
    "hop=[[-J,i,(i+1)%L] for i in range(L - 1)] # open boundary condition\n",
    "interact=[[0.5*U,i,i] for i in range(L)] # U/2 \\sum_j n_j n_j\n",
    "pot=[[-mu-0.5*U,i] for i in range(L)] # -(\\mu + U/2) \\sum_j j_n\n",
    "\n",
    "# define static and dynamic lists\n",
    "static=[['+-',hop],['-+',hop],['n',pot],['nn',interact]]\n",
    "dynamic=[]\n",
    "\n",
    "# build Hamiltonian\n",
    "H=hamiltonian(static,dynamic,basis=basis,dtype=np.float64)\n",
    "\n",
    "# print(n1, n2, n3)"
   ]
  },
  {
   "cell_type": "markdown",
   "id": "33400eee",
   "metadata": {},
   "source": [
    "### Initial condition"
   ]
  },
  {
   "cell_type": "code",
   "execution_count": 8,
   "id": "d8492b02",
   "metadata": {},
   "outputs": [],
   "source": [
    "ψ0 = np.zeros(len(basis.states), complex)\n",
    "ψ0[0] = 1"
   ]
  },
  {
   "cell_type": "markdown",
   "id": "3de2bf4c",
   "metadata": {},
   "source": [
    "### QuSpin evolution"
   ]
  },
  {
   "cell_type": "code",
   "execution_count": 9,
   "id": "00ada040",
   "metadata": {},
   "outputs": [
    {
     "name": "stdout",
     "output_type": "stream",
     "text": [
      "QuSpin run time 5.3 s\n"
     ]
    }
   ],
   "source": [
    "t0 = time.time()\n",
    "\n",
    "Ψ_quspin = H.evolve(ψ0, times[0], times)\n",
    "\n",
    "print(\"QuSpin run time {:.1f} s\".format(time.time() - t0))"
   ]
  },
  {
   "cell_type": "markdown",
   "id": "bddcebc6",
   "metadata": {},
   "source": [
    "### Skolem evolution"
   ]
  },
  {
   "cell_type": "code",
   "execution_count": 10,
   "id": "a97f535e",
   "metadata": {},
   "outputs": [
    {
     "name": "stdout",
     "output_type": "stream",
     "text": [
      "Skolem method run time 1.1 s\n"
     ]
    }
   ],
   "source": [
    "t0 = time.time()\n",
    "\n",
    "Ψ_skolem = [ψ0,]\n",
    "\n",
    "for _ in times[1:]:\n",
    "    ψ = expH_23 @ Ψ_skolem[-1][indx]\n",
    "    ψ = expH_23 @ ψ[indx]\n",
    "    Ψ_skolem.append(ψ)\n",
    "    \n",
    "Ψ_skolem = np.array(Ψ_skolem).T\n",
    "\n",
    "print(\"Skolem method run time {:.1f} s\".format(time_prepare_skolem + time.time() - t0))"
   ]
  },
  {
   "cell_type": "code",
   "execution_count": 11,
   "id": "6f072f4b",
   "metadata": {},
   "outputs": [
    {
     "data": {
      "image/png": "[encoded data removed]",
      "text/plain": [
       "<Figure size 640x480 with 1 Axes>"
      ]
     },
     "metadata": {},
     "output_type": "display_data"
    }
   ],
   "source": [
    "plt.title(\"Norm difference between QuSpin and Skolem propagator\")\n",
    "plt.plot(times, norm(Ψ_skolem - Ψ_quspin, axis=0))\n",
    "plt.xlabel(\"time\")\n",
    "plt.ylabel(r\"$\\|\\|\\Psi_{skolem} - \\Psi_{quspin}\\|\\|$\")\n",
    "plt.show()"
   ]
  },
  {
   "cell_type": "raw",
   "id": "d12d680c",
   "metadata": {},
   "source": [
    "from matplotlib.colors import LogNorm # enable log color plot\n",
    "\n",
    "plt.title(\"evolution via QSpin\")\n",
    "plt.imshow(\n",
    "    np.abs(Ψ_quspin) ** 2, \n",
    "    norm=LogNorm(vmin=1e-6),\n",
    "    aspect = Ψ_qspin.shape[1] / Ψ_qspin.shape[0],\n",
    ")\n",
    "\n",
    "plt.colorbar()"
   ]
  },
  {
   "cell_type": "raw",
   "id": "d715f681",
   "metadata": {},
   "source": [
    "plt.title(\"New method\")\n",
    "\n",
    "plt.imshow(\n",
    "    np.abs(Ψ_skolem) ** 2, \n",
    "    norm=LogNorm(vmin=1e-6),\n",
    "    aspect = Ψ_skolem.shape[1] / Ψ_skolem.shape[0],\n",
    ")\n",
    "\n",
    "plt.colorbar()"
   ]
  },
  {
   "cell_type": "code",
   "execution_count": null,
   "id": "807bd059",
   "metadata": {},
   "outputs": [],
   "source": []
  }
 ],
 "metadata": {
  "kernelspec": {
   "display_name": "Python 3 (ipykernel)",
   "language": "python",
   "name": "python3"
  },
  "language_info": {
   "codemirror_mode": {
    "name": "ipython",
    "version": 3
   },
   "file_extension": ".py",
   "mimetype": "text/x-python",
   "name": "python",
   "nbconvert_exporter": "python",
   "pygments_lexer": "ipython3",
   "version": "3.10.8"
  }
 },
 "nbformat": 4,
 "nbformat_minor": 5
}
