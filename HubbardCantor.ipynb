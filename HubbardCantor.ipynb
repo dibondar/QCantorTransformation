{
 "cells": [
  {
   "cell_type": "markdown",
   "id": "bbf7370a",
   "metadata": {},
   "source": [
    "# The two-sites Hubbard model"
   ]
  },
  {
   "cell_type": "code",
   "execution_count": 1,
   "id": "c16dadd2",
   "metadata": {},
   "outputs": [],
   "source": [
    "import numpy as np\n",
    "import matplotlib.pyplot as plt\n",
    "from scipy.linalg import eigh_tridiagonal"
   ]
  },
  {
   "cell_type": "code",
   "execution_count": null,
   "id": "ee1cda6c",
   "metadata": {},
   "outputs": [],
   "source": []
  },
  {
   "cell_type": "code",
   "execution_count": 2,
   "id": "f3335413",
   "metadata": {},
   "outputs": [],
   "source": [
    "from qutip import tensor, destroy, qeye\n",
    "\n",
    "N = 10\n",
    "\n",
    "aL = tensor(destroy(N), qeye(N))\n",
    "aR = tensor(qeye(N), destroy(N))\n",
    "num_L = aL.dag() * aL\n",
    "num_R = aR.dag() * aR\n",
    "\n",
    "U = 1.\n",
    "\n",
    "H = -(aL.dag() * aR + aR.dag() * aL) + U * (num_L * (num_L - 1) + num_R * (num_R - 1))"
   ]
  },
  {
   "cell_type": "code",
   "execution_count": 3,
   "id": "71f42fdc",
   "metadata": {},
   "outputs": [
    {
     "data": {
      "text/plain": [
       "array([-1.23606798, -1.        , -0.46410162,  0.        ,  1.        ,\n",
       "        1.25543735,  2.        ,  3.        ,  3.23606798,  3.96425886,\n",
       "        5.39444872,  6.46410162,  7.        ,  7.6521596 ,  8.        ,\n",
       "        8.44109537, 12.32994651, 12.41881243, 12.58555378, 12.60555128])"
      ]
     },
     "execution_count": 3,
     "metadata": {},
     "output_type": "execute_result"
    }
   ],
   "source": [
    "H.eigenenergies()[:20]"
   ]
  },
  {
   "cell_type": "code",
   "execution_count": 4,
   "id": "dc409dc3",
   "metadata": {},
   "outputs": [],
   "source": [
    "def Cantor(x, y):\n",
    "    return (x + y) * (x + y + 1) / 2 + y\n",
    "\n",
    "\n",
    "z_max = Cantor(N, N)\n",
    "z = np.arange(0, z_max)\n",
    "\n",
    "w = np.floor(0.5 * (np.sqrt(8 * z + 1) - 1))\n",
    "y = z - w * (w + 1) / 2\n",
    "x = w - y\n",
    "\n",
    "nL = x.astype(int)\n",
    "nR = y.astype(int)"
   ]
  },
  {
   "cell_type": "code",
   "execution_count": 5,
   "id": "93d03546",
   "metadata": {},
   "outputs": [
    {
     "data": {
      "text/plain": [
       "3.241851231905457e-14"
      ]
     },
     "execution_count": 5,
     "metadata": {},
     "output_type": "execute_result"
    }
   ],
   "source": [
    "np.max(\n",
    "    np.abs(\n",
    "        eigh_tridiagonal(\n",
    "            U * (nL * (nL - 1) + nR * (nR - 1)), -np.sqrt((nL + 1) * nR)[1::],\n",
    "            eigvals_only = True\n",
    "        )[:15] - H.eigenenergies()[:15]\n",
    "    )\n",
    ")"
   ]
  },
  {
   "cell_type": "code",
   "execution_count": null,
   "id": "6c946926",
   "metadata": {},
   "outputs": [],
   "source": []
  }
 ],
 "metadata": {
  "kernelspec": {
   "display_name": "Python 3 (ipykernel)",
   "language": "python",
   "name": "python3"
  },
  "language_info": {
   "codemirror_mode": {
    "name": "ipython",
    "version": 3
   },
   "file_extension": ".py",
   "mimetype": "text/x-python",
   "name": "python",
   "nbconvert_exporter": "python",
   "pygments_lexer": "ipython3",
   "version": "3.9.13"
  }
 },
 "nbformat": 4,
 "nbformat_minor": 5
}
