{
 "cells": [
  {
   "cell_type": "markdown",
   "id": "1bcd33db",
   "metadata": {},
   "source": [
    "# Bose Hubbard model via Skolem Tridiagonalization "
   ]
  },
  {
   "cell_type": "code",
   "execution_count": 1,
   "id": "9ec8bce5",
   "metadata": {},
   "outputs": [],
   "source": [
    "import os\n",
    "\n",
    "threads = 1\n",
    "os.environ['NUMEXPR_MAX_THREADS'] = '{}'.format(threads)\n",
    "os.environ['NUMEXPR_NUM_THREADS'] = '{}'.format(threads)\n",
    "os.environ['OMP_NUM_THREADS'] = '{}'.format(threads)\n",
    "os.environ['MKL_NUM_THREADS'] = '{}'.format(threads)"
   ]
  },
  {
   "cell_type": "code",
   "execution_count": 2,
   "id": "9768cd64",
   "metadata": {},
   "outputs": [],
   "source": [
    "import numpy as np\n",
    "import matplotlib.pyplot as plt\n",
    "\n",
    "from scipy.linalg import eigh_tridiagonal, norm, hankel, expm\n",
    "from scipy.sparse import block_diag\n",
    "\n",
    "# from tqdm.notebook import tqdm, trange\n",
    "import time\n",
    "\n",
    "# Number theoretical tools: The Skolem polynomials and its inverse\n",
    "from skolem_util import skolem, tuple_from_skolem\n",
    "\n",
    "from quspin.operators import hamiltonian # Hamiltonians and operators\n",
    "from quspin.basis import boson_basis_1d # Hilbert space boson basis"
   ]
  },
  {
   "cell_type": "markdown",
   "id": "3f4b4943",
   "metadata": {},
   "source": [
    "## Parameters of the 3 sites Bose Hubbard model and propagation"
   ]
  },
  {
   "cell_type": "code",
   "execution_count": 3,
   "id": "36391592",
   "metadata": {},
   "outputs": [],
   "source": [
    "U = 1\n",
    "J = 1\n",
    "mu = 0\n",
    "\n",
    "# number of bosons\n",
    "N = 100\n",
    "\n",
    "# time-step for propagation \n",
    "Δt = 0.01\n",
    "\n",
    "# times to save wavefunctions\n",
    "times = Δt * np.arange(100)\n",
    "\n",
    "# number of sites \n",
    "K = 4\n",
    "\n",
    "# If True – the periodic boundary condition, False – the open boundary condition\n",
    "is_pbc = False"
   ]
  },
  {
   "cell_type": "markdown",
   "id": "4a4e3adf",
   "metadata": {},
   "source": [
    "## Using the Skolem for building the propagator  the Bose Hubbard model "
   ]
  },
  {
   "cell_type": "code",
   "execution_count": 4,
   "id": "39c5de28",
   "metadata": {},
   "outputs": [],
   "source": [
    "t0 = time.time()\n",
    "\n",
    "# the cut off of Skolem index\n",
    "S_min = skolem((K - 1) * [0] + [N])\n",
    "S_max = skolem([N] + (K - 1) * [0])\n",
    "\n",
    "skolem_indx = np.arange(S_min, S_max + 1)\n",
    "\n",
    "# This should be parallelized to speed up \n",
    "#  or replaced by boson_basis_1d[::-1] from QuSpin since they are compatible (see the comment below) \n",
    "n = np.array(\n",
    "    [tuple_from_skolem(S, K) for S in skolem_indx]\n",
    ").T\n",
    "\n",
    "########################################################\n",
    "# Reindexing to implement the permutation matrix \n",
    "# to bring the neighboring site to tridiagonal form.\n",
    "########################################################\n",
    "\n",
    "# This is included to be compatible with QuSpin\n",
    "minus = -1\n",
    "\n",
    "# indx implements the shift matrix S in the paper, \n",
    "# i.e.,  \\Psi[indx] implements S\\Psi  \n",
    "indx = np.array([\n",
    "    skolem(_) for _ in n[np.roll(np.arange(K), minus * 1)].T\n",
    "])\n",
    "indx -= S_min\n",
    "\n",
    "########################################################\n",
    "# The following re-ordering is to be compartible with QuSpin\n",
    "n = n[::-1]\n",
    "# Now the basis in QuSpin and in the Skolemn propagator coincide"
   ]
  },
  {
   "cell_type": "markdown",
   "id": "45aba3a8",
   "metadata": {},
   "source": [
    "### Get $\\exp(-i\\Delta t \\hat{H}_{nn})$ via block tridiagonalization\n",
    "where $\\hat{H}_{nn}$ stands for nearest neighbor hamiltonian"
   ]
  },
  {
   "cell_type": "code",
   "execution_count": 5,
   "id": "dfca6f25",
   "metadata": {},
   "outputs": [],
   "source": [
    "# diagonal of the tri-diagonal Hamiltonian H_nn\n",
    "d = -(mu + 0.5 * U) * n[-2] + 0.5 * U * n[-2] ** 2\n",
    "\n",
    "# off diagonal of the full tri-diagonal Hamiltonian H23\n",
    "e = -J * np.sqrt((n[-2] + 1) * n[-1])[1:]\n",
    "\n",
    "start_block = 0\n",
    "\n",
    "# Find the edges of the blocks. They are found when the off-diagonals have zeros   \n",
    "block_edges = np.where(e == 0)[0] + 1\n",
    "\n",
    "if block_edges[-1] != d.size:\n",
    "    block_edges = np.append(block_edges, [d.size])\n",
    "\n",
    "expH_nn = []\n",
    "\n",
    "# Find matrix exponential via diagonalization of each block separately\n",
    "for end_block in block_edges:\n",
    "    block_E_nn, block_v = eigh_tridiagonal(\n",
    "        d[start_block:end_block],\n",
    "        e[start_block:end_block - 1],\n",
    "    )\n",
    "    \n",
    "    expH_nn.append(\n",
    "        (block_v * np.exp(-1j * Δt * block_E_nn)) @ block_v.T\n",
    "    )\n",
    "\n",
    "    start_block = end_block\n",
    "    \n",
    "# Save as a sparse matrix\n",
    "expH_nn = block_diag(expH_nn)\n",
    "\n",
    "# Open boundary condition\n",
    "if not is_pbc:\n",
    "    # extra phase factor (due to the on-site interaction) \n",
    "    # that needs to be taken into account in the case of the open boundary condition\n",
    "    d_edge = d -(mu + 0.5 * U) * n[-1] + 0.5 * U * n[-1] ** 2\n",
    " \n",
    "    expH_edge = []\n",
    "    \n",
    "    start_block = 0\n",
    "    \n",
    "    # Find matrix exponential via diagonalization of each block separately\n",
    "    for end_block in block_edges:\n",
    "        block_E_nn, block_v = eigh_tridiagonal(\n",
    "            d_edge[start_block:end_block],\n",
    "            e[start_block:end_block - 1],\n",
    "        )\n",
    "\n",
    "        expH_edge.append(\n",
    "            (block_v * np.exp(-1j * Δt * block_E_nn)) @ block_v.T\n",
    "        )\n",
    "\n",
    "        start_block = end_block\n",
    "        \n",
    "    # Save as a sparse matrix\n",
    "    expH_edge = block_diag(expH_edge)\n",
    "\n",
    "# Save time it took to initialize the Skolem propagator \n",
    "time_prepare_skolem = time.time() - t0"
   ]
  },
  {
   "cell_type": "markdown",
   "id": "7a96399a",
   "metadata": {},
   "source": [
    "## QuSpin\n",
    "\n",
    "Comparing the implementation of the Bose-Hubbard Model in the QuSpin library by following: https://github.com/weinbe58/QuSpin/blob/master/examples/notebooks/BHM.ipynb"
   ]
  },
  {
   "cell_type": "code",
   "execution_count": 6,
   "id": "628e65ea",
   "metadata": {
    "scrolled": true
   },
   "outputs": [
    {
     "name": "stdout",
     "output_type": "stream",
     "text": [
      "Hermiticity check passed!\n",
      "Particle conservation check passed!\n"
     ]
    },
    {
     "name": "stderr",
     "output_type": "stream",
     "text": [
      "/home/denys/anaconda3/lib/python3.7/site-packages/ipykernel_launcher.py:22: UserWarning: Test for symmetries not implemented for <class 'quspin.basis.basis_1d.boson.boson_basis_1d'>, to turn off this warning set check_symm=False in hamiltonian\n"
     ]
    }
   ],
   "source": [
    "##### construct Bose-Hubbard Hamiltonian #####\n",
    "# define boson basis with N states per site L bosons in the lattice\n",
    "\n",
    "basis = boson_basis_1d(K, Nb=N) # full boson basis\n",
    "\n",
    "# define site-coupling lists\n",
    "if is_pbc:\n",
    "    # Peridodic bouundary condition\n",
    "    hop=[[-J,i,(i+1)%K] for i in range(K)] #PBC\n",
    "else:\n",
    "    # open boundary condition\n",
    "    hop=[[-J,i,(i+1)%K] for i in range(K - 1)]\n",
    "\n",
    "interact=[[0.5*U,i,i] for i in range(K)] # U/2 \\sum_j n_j n_j\n",
    "pot=[[-mu-0.5*U,i] for i in range(K)] # -(\\mu + U/2) \\sum_j j_n\n",
    "\n",
    "# define static and dynamic lists\n",
    "static=[['+-',hop],['-+',hop],['n',pot],['nn',interact]]\n",
    "dynamic=[]\n",
    "\n",
    "# build Hamiltonian\n",
    "H=hamiltonian(static,dynamic,basis=basis,dtype=np.float64)"
   ]
  },
  {
   "cell_type": "markdown",
   "id": "bb609fe0",
   "metadata": {},
   "source": [
    "## Comparing the propagators with QuSpin"
   ]
  },
  {
   "cell_type": "raw",
   "id": "b9b9d8c9",
   "metadata": {},
   "source": [
    "def get_ham(i):\n",
    "    return hamiltonian(\n",
    "        [\n",
    "            ['+-', [[-J, (K - 2 + i) % K, (K - 1 + i) % K]]], \n",
    "            ['-+', [[-J, (K - 2 + i) % K, (K - 1 + i) % K]]], \n",
    "            ['nn', [[0.5 * U, (K - 2 + i) % K, (K - 2 + i) % K]]], \n",
    "            ['n', [[-mu -0.5 * U, (K - 2 + i) % K]]]\n",
    "        ], \n",
    "        [], \n",
    "        basis = basis, \n",
    "        dtype = np.float64,\n",
    "        check_symm = False\n",
    "    )\n",
    "\n",
    "def get_ham_(i):\n",
    "    return hamiltonian(\n",
    "        [\n",
    "            ['+-', [[-J, (K - 2 + i) % K, (K - 1 + i) % K]]], \n",
    "            ['-+', [[-J, (K - 2 + i) % K, (K - 1 + i) % K]]], \n",
    "            ['nn', [[0.5 * U, (K - 2 + i) % K, (K - 2 + i) % K], [0.5 * U, (K - 2 + i) % K, (K - 2 + i) % K]]], \n",
    "            ['n', [[-mu -0.5 * U, (K - 2 + i) % K]]]\n",
    "        ], \n",
    "        [], \n",
    "        basis = basis, \n",
    "        dtype = np.float64,\n",
    "        check_symm = False\n",
    "    )\n",
    "\n",
    "prop = [\n",
    "    expm(-1j * Δt * get_ham(i).toarray()) for i in range(K)\n",
    "]\n",
    "\n",
    "assert all(\n",
    "    np.allclose(\n",
    "        prop[j + 1], \n",
    "        prop[j][indx, :][:, indx]\n",
    "    ) for j in range(K - 1)\n",
    "), \"re-tndexing to switch the propagators not working\"\n",
    "\n",
    "assert np.allclose(expH_nn.toarray(), prop[0]), \"Comparing the Skolem with Qutip does not work\""
   ]
  },
  {
   "cell_type": "markdown",
   "id": "33400eee",
   "metadata": {},
   "source": [
    "### Initial condition"
   ]
  },
  {
   "cell_type": "code",
   "execution_count": 7,
   "id": "d8492b02",
   "metadata": {},
   "outputs": [],
   "source": [
    "ψ0 = np.zeros(len(basis.states), complex)\n",
    "ψ0[0] = 1"
   ]
  },
  {
   "cell_type": "markdown",
   "id": "3de2bf4c",
   "metadata": {},
   "source": [
    "### QuSpin evolution"
   ]
  },
  {
   "cell_type": "code",
   "execution_count": 8,
   "id": "00ada040",
   "metadata": {},
   "outputs": [
    {
     "name": "stdout",
     "output_type": "stream",
     "text": [
      "QuSpin run time 260.4 s\n"
     ]
    }
   ],
   "source": [
    "t0 = time.time()\n",
    "\n",
    "Ψ_quspin = H.evolve(ψ0, times[0], times)\n",
    "\n",
    "print(\"QuSpin run time {:.1f} s\".format(time.time() - t0))"
   ]
  },
  {
   "cell_type": "markdown",
   "id": "bddcebc6",
   "metadata": {},
   "source": [
    "### Skolem evolution"
   ]
  },
  {
   "cell_type": "code",
   "execution_count": 9,
   "id": "a97f535e",
   "metadata": {},
   "outputs": [
    {
     "name": "stdout",
     "output_type": "stream",
     "text": [
      "Preparation of basis and Skolem diagonalization: 23.0 s\n",
      "Skolem propagation: 8.9 s\n",
      "Total Skolem method run time 31.9 s\n"
     ]
    }
   ],
   "source": [
    "t0 = time.time()\n",
    "\n",
    "Ψ_skolem = [ψ0,]\n",
    "\n",
    "\n",
    "if is_pbc:\n",
    "    # Peridodic bouundary condition\n",
    "    for _ in times[1:]:\n",
    "\n",
    "        ψ = Ψ_skolem[-1]\n",
    "\n",
    "        for _ in range(K):\n",
    "            ψ = expH_nn @ ψ[indx]\n",
    "\n",
    "        Ψ_skolem.append(ψ)\n",
    "else:\n",
    "    # Open boundary condition\n",
    "    for _ in times[1:]:\n",
    "\n",
    "        ψ = expH_edge @ Ψ_skolem[-1][indx][indx]\n",
    "        \n",
    "        for _ in range(2, K):            \n",
    "            ψ = expH_nn @ ψ[indx] \n",
    "               \n",
    "        Ψ_skolem.append(ψ)\n",
    "  \n",
    "    \n",
    "Ψ_skolem = np.array(Ψ_skolem).T\n",
    "\n",
    "time_propagate_skolem = time.time() - t0\n",
    "\n",
    "print(\"Preparation of basis and Skolem diagonalization: {:.1f} s\".format(time_prepare_skolem))\n",
    "print(\"Skolem propagation: {:.1f} s\".format(time_propagate_skolem))\n",
    "\n",
    "print(\"Total Skolem method run time {:.1f} s\".format(time_prepare_skolem + time_propagate_skolem))"
   ]
  },
  {
   "cell_type": "code",
   "execution_count": 10,
   "id": "bcbb9e37",
   "metadata": {},
   "outputs": [
    {
     "data": {
      "image/png": "[encoded data removed]",
      "text/plain": [
       "<Figure size 640x480 with 1 Axes>"
      ]
     },
     "metadata": {},
     "output_type": "display_data"
    }
   ],
   "source": [
    "plt.title(\"Norm difference between QuSpin and Skolem propagator\")\n",
    "plt.plot(times, norm(Ψ_skolem - Ψ_quspin, axis=0) / Δt)\n",
    "plt.xlabel(\"time\")\n",
    "plt.ylabel(r\"$\\|\\|\\Psi_{skolem} - \\Psi_{quspin}\\|\\| / \\Delta t$\")\n",
    "plt.show()"
   ]
  },
  {
   "cell_type": "code",
   "execution_count": 11,
   "id": "8147487c",
   "metadata": {},
   "outputs": [
    {
     "data": {
      "image/png": "[encoded data removed]",
      "text/plain": [
       "<Figure size 640x480 with 1 Axes>"
      ]
     },
     "metadata": {},
     "output_type": "display_data"
    }
   ],
   "source": [
    "plt.title(\"Comparing the wave functions at the end of propagation\")\n",
    "plt.loglog(np.abs(Ψ_quspin[:, -1]) ** 2, label='QuSpin ')\n",
    "plt.loglog(np.abs(Ψ_skolem[:, -1]) ** 2, label='Skolem')\n",
    "plt.ylim([1e-6, 1e0,])\n",
    "plt.legend()\n",
    "plt.show()"
   ]
  },
  {
   "cell_type": "raw",
   "id": "657109a0",
   "metadata": {},
   "source": [
    "from matplotlib.colors import LogNorm # enable log color plot\n",
    "\n",
    "plt.title(\"evolution via QSpin\")\n",
    "plt.imshow(\n",
    "    np.abs(Ψ_quspin) ** 2, \n",
    "    norm=LogNorm(vmin=1e-6),\n",
    "    aspect = Ψ_quspin.shape[1] / Ψ_quspin.shape[0],\n",
    ")\n",
    "\n",
    "plt.colorbar()"
   ]
  },
  {
   "cell_type": "raw",
   "id": "922177b8",
   "metadata": {},
   "source": [
    "plt.title(\"The Skolem method\")\n",
    "\n",
    "plt.imshow(\n",
    "    np.abs(Ψ_skolem) ** 2, \n",
    "    norm=LogNorm(vmin=1e-6),\n",
    "    aspect = Ψ_skolem.shape[1] / Ψ_skolem.shape[0],\n",
    ")\n",
    "\n",
    "plt.colorbar()"
   ]
  },
  {
   "cell_type": "code",
   "execution_count": null,
   "id": "e586cf2e",
   "metadata": {},
   "outputs": [],
   "source": []
  }
 ],
 "metadata": {
  "kernelspec": {
   "display_name": "Python 3 (ipykernel)",
   "language": "python",
   "name": "python3"
  },
  "language_info": {
   "codemirror_mode": {
    "name": "ipython",
    "version": 3
   },
   "file_extension": ".py",
   "mimetype": "text/x-python",
   "name": "python",
   "nbconvert_exporter": "python",
   "pygments_lexer": "ipython3",
   "version": "3.7.11"
  }
 },
 "nbformat": 4,
 "nbformat_minor": 5
}
