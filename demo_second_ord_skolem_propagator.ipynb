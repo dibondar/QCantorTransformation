{
 "cells": [
  {
   "cell_type": "markdown",
   "id": "07d934b7",
   "metadata": {},
   "source": [
    "# Benchmarking the first and second orders propagator with the exact propagator calculated via matrix exponential\n",
    "\n",
    "Interestingly, the **results depend on the boundary conditions**. The second order is indeed more accurate than the first order for periodic boundary conditions, whereas there is **no significant difference between the first and second order Skolem propagators for open boundary conditions.**"
   ]
  },
  {
   "cell_type": "code",
   "execution_count": 20,
   "id": "f816cc6b",
   "metadata": {},
   "outputs": [],
   "source": [
    "import os\n",
    "\n",
    "threads = 1\n",
    "os.environ['NUMEXPR_MAX_THREADS'] = '{}'.format(threads)\n",
    "os.environ['NUMEXPR_NUM_THREADS'] = '{}'.format(threads)\n",
    "os.environ['OMP_NUM_THREADS'] = '{}'.format(threads)\n",
    "os.environ['MKL_NUM_THREADS'] = '{}'.format(threads)"
   ]
  },
  {
   "cell_type": "code",
   "execution_count": 2,
   "id": "c8755a4d",
   "metadata": {},
   "outputs": [],
   "source": [
    "import time\n",
    "import numpy as np\n",
    "from scipy.linalg import norm, expm\n",
    "import matplotlib.pyplot as plt\n",
    "\n",
    "from quspin.operators import hamiltonian # Hamiltonians and operators\n",
    "from quspin.basis import boson_basis_1d # Hilbert space boson basis\n",
    "\n",
    "from skolem_propagator_bose_hubbard import BHSkolemPropagator as BHSkolemPropagator_1ord\n",
    "from second_ord_skolem_propagator_bose_hubbard import BHSkolemPropagator as BHSkolemPropagator_2ord"
   ]
  },
  {
   "cell_type": "markdown",
   "id": "f9ff7130",
   "metadata": {},
   "source": [
    "## Parameters of the $K$ sites Bose Hubbard model and propagation"
   ]
  },
  {
   "cell_type": "code",
   "execution_count": 3,
   "id": "6140610c",
   "metadata": {},
   "outputs": [],
   "source": [
    "bh_params = dict(\n",
    "    # On-sight interaction\n",
    "    U = 10,\n",
    "    \n",
    "    # Hopping energy\n",
    "    J = 1,\n",
    "    \n",
    "    # Chemical potential\n",
    "    mu = 0,\n",
    "    \n",
    "    # Number of bosons\n",
    "    N = 4,\n",
    "    \n",
    "    # Number of sites\n",
    "    K = 5,\n",
    "    \n",
    "    # time-step\n",
    "    dt = 0.001\n",
    ")\n",
    "\n",
    "times = bh_params['dt'] * np.arange(100)"
   ]
  },
  {
   "cell_type": "markdown",
   "id": "8738df99",
   "metadata": {},
   "source": [
    "##  QuSpin\n",
    "\n",
    "Comparing the implementation of the Bose-Hubbard Model in the QuSpin library by following: https://github.com/weinbe58/QuSpin/blob/master/examples/notebooks/BHM.ipynb"
   ]
  },
  {
   "cell_type": "code",
   "execution_count": 4,
   "id": "42759847",
   "metadata": {},
   "outputs": [],
   "source": [
    "def exact_evolve(ψ0, times, *, U, J, N, K, mu, is_pbc, **kwargs):\n",
    "    \n",
    "    ##### construct Bose-Hubbard Hamiltonian #####\n",
    "    # define boson basis with N states per site K bosons in the lattice\n",
    "\n",
    "    basis = boson_basis_1d(K, Nb=N) # full boson basis\n",
    "\n",
    "    # define site-coupling lists\n",
    "    if is_pbc:\n",
    "        # Peridodic bouundary condition\n",
    "        hop=[[-J,i,(i+1)%K] for i in range(K)] \n",
    "    else:\n",
    "        # open boundary condition\n",
    "        hop=[[-J,i,(i+1)%K] for i in range(K - 1)]\n",
    "\n",
    "    interact=[[0.5*U,i,i] for i in range(K)] # U/2 \\sum_j n_j n_j\n",
    "    pot=[[-mu-0.5*U,i] for i in range(K)] # -(\\mu + U/2) \\sum_j j_n\n",
    "\n",
    "    # define static and dynamic lists\n",
    "    static=[['+-',hop],['-+',hop],['n',pot],['nn',interact]]\n",
    "    dynamic=[]\n",
    "\n",
    "    # build Hamiltonian\n",
    "    H =  hamiltonian(static,dynamic,basis=basis,dtype=np.float64)\n",
    "    \n",
    "    dt = times[1] - times[0]\n",
    "    \n",
    "    # Get the exact unitary propagator  \n",
    "    U = expm(-1j * dt * H.toarray())\n",
    "    \n",
    "    Ψ = [ψ0,]\n",
    "    \n",
    "    for _ in times[1:]:\n",
    "        Ψ.append(\n",
    "            U @ Ψ[-1]\n",
    "        )\n",
    "    \n",
    "    Ψ = np.array(Ψ).T\n",
    "    \n",
    "    return Ψ"
   ]
  },
  {
   "cell_type": "markdown",
   "id": "a305556c",
   "metadata": {},
   "source": [
    "### Initialize Skolem propagators for the first and second orders"
   ]
  },
  {
   "cell_type": "code",
   "execution_count": 5,
   "id": "46256396",
   "metadata": {},
   "outputs": [],
   "source": [
    "t0 = time.time()\n",
    "\n",
    "skolem_method_1ord = BHSkolemPropagator_1ord(**bh_params)\n",
    "\n",
    "# Save time it took to initialize the Skolem propagator \n",
    "time_prepare_skolem_1ord = time.time() - t0\n",
    "\n",
    "t0 = time.time()\n",
    "\n",
    "skolem_method_2ord = BHSkolemPropagator_2ord(**bh_params)\n",
    "\n",
    "# Save time it took to initialize the Skolem propagator \n",
    "time_prepare_skolem_2ord = time.time() - t0"
   ]
  },
  {
   "cell_type": "markdown",
   "id": "a5aefbb7",
   "metadata": {},
   "source": [
    "### Initial condition"
   ]
  },
  {
   "cell_type": "code",
   "execution_count": 6,
   "id": "3870c26c",
   "metadata": {},
   "outputs": [],
   "source": [
    "ψ0 = np.zeros(skolem_method_1ord.indx.size, complex)\n",
    "ψ0[0] = 1"
   ]
  },
  {
   "cell_type": "markdown",
   "id": "86071602",
   "metadata": {},
   "source": [
    "## Open boundary condition\n",
    "\n",
    "### Exact evolution via QuSpin"
   ]
  },
  {
   "cell_type": "code",
   "execution_count": 7,
   "id": "623d3725",
   "metadata": {},
   "outputs": [
    {
     "name": "stdout",
     "output_type": "stream",
     "text": [
      "Hermiticity check passed!\n",
      "Particle conservation check passed!\n"
     ]
    },
    {
     "name": "stderr",
     "output_type": "stream",
     "text": [
      "/home/denys/anaconda3/lib/python3.7/site-packages/ipykernel_launcher.py:24: UserWarning: Test for symmetries not implemented for <class 'quspin.basis.basis_1d.boson.boson_basis_1d'>, to turn off this warning set check_symm=False in hamiltonian\n"
     ]
    },
    {
     "name": "stdout",
     "output_type": "stream",
     "text": [
      "QuSpin run time 0.5 s\n"
     ]
    }
   ],
   "source": [
    "t0 = time.time()\n",
    "\n",
    "Ψ_exact_obc = exact_evolve(ψ0, times, is_pbc=False, **bh_params)\n",
    "\n",
    "print(\"QuSpin run time {:.1f} s\".format(time.time() - t0))"
   ]
  },
  {
   "cell_type": "markdown",
   "id": "fdd7480c",
   "metadata": {},
   "source": [
    "### The first order Skolem evolution"
   ]
  },
  {
   "cell_type": "code",
   "execution_count": 8,
   "id": "30b2361d",
   "metadata": {},
   "outputs": [
    {
     "name": "stdout",
     "output_type": "stream",
     "text": [
      "Preparation of basis and Skolem diagonalization: 0.1 s\n",
      "Skolem propagation: 0.0 s\n",
      "Total Skolem method run time 0.0 s\n"
     ]
    }
   ],
   "source": [
    "t0 = time.time()\n",
    "\n",
    "Ψ_skolem_obc_1ord = [ψ0,]\n",
    "\n",
    "for _ in times[1:]:\n",
    "    Ψ_skolem_obc_1ord.append(\n",
    "        skolem_method_1ord.propagate(Ψ_skolem_obc_1ord[-1], is_pbc=False)\n",
    "    )\n",
    "    \n",
    "Ψ_skolem_obc_1ord = np.array(Ψ_skolem_obc_1ord).T\n",
    "\n",
    "time_propagate_skolem_1ord = time.time() - t0\n",
    "\n",
    "print(\"Preparation of basis and Skolem diagonalization: {:.1f} s\".format(time_prepare_skolem_1ord))\n",
    "print(\"Skolem propagation: {:.1f} s\".format(time_propagate_skolem_1ord))\n",
    "\n",
    "print(\"Total Skolem method run time {:.1f} s\".format(time_propagate_skolem_1ord + time_propagate_skolem_1ord))"
   ]
  },
  {
   "cell_type": "markdown",
   "id": "16274c5f",
   "metadata": {},
   "source": [
    "### The second order Skolem evolution"
   ]
  },
  {
   "cell_type": "code",
   "execution_count": 9,
   "id": "83200b69",
   "metadata": {},
   "outputs": [
    {
     "name": "stdout",
     "output_type": "stream",
     "text": [
      "Preparation of basis and Skolem diagonalization: 0.0 s\n",
      "Skolem propagation: 0.0 s\n",
      "Total Skolem method run time 0.0 s\n"
     ]
    }
   ],
   "source": [
    "t0 = time.time()\n",
    "\n",
    "Ψ_skolem_obc_2ord = [ψ0,]\n",
    "\n",
    "for _ in times[1:]:\n",
    "    Ψ_skolem_obc_2ord.append(\n",
    "        skolem_method_2ord.propagate(Ψ_skolem_obc_2ord[-1], is_pbc=False)\n",
    "    )\n",
    "    \n",
    "Ψ_skolem_obc_2ord = np.array(Ψ_skolem_obc_2ord).T\n",
    "\n",
    "time_propagate_skolem_2ord = time.time() - t0\n",
    "\n",
    "print(\"Preparation of basis and Skolem diagonalization: {:.1f} s\".format(time_prepare_skolem_2ord))\n",
    "print(\"Skolem propagation: {:.1f} s\".format(time_propagate_skolem_2ord))\n",
    "\n",
    "print(\"Total Skolem method run time {:.1f} s\".format(time_propagate_skolem_2ord + time_propagate_skolem_2ord))"
   ]
  },
  {
   "cell_type": "markdown",
   "id": "3eb65fe3",
   "metadata": {},
   "source": [
    "### Open boundary condition: Norm difference between exact and Skolem propagator"
   ]
  },
  {
   "cell_type": "code",
   "execution_count": 17,
   "id": "6f47dae2",
   "metadata": {},
   "outputs": [
    {
     "data": {
      "image/png": "[encoded data removed]",
      "text/plain": [
       "<Figure size 640x480 with 1 Axes>"
      ]
     },
     "metadata": {},
     "output_type": "display_data"
    }
   ],
   "source": [
    "#plt.title(\"Norm difference between exact and Skolem propagator\")\n",
    "plt.plot(times, norm(Ψ_skolem_obc_1ord - Ψ_exact_obc, axis=0), label=r\"first order\")\n",
    "plt.plot(times, norm(Ψ_skolem_obc_2ord - Ψ_exact_obc, axis=0), label=r\"second order\")\n",
    "plt.xlabel(\"$t$, time\")\n",
    "plt.ylabel(r\"$\\|\\|\\Psi_{skolem}^{(j)}(t) - \\Psi_{exact}(t)\\|\\|$\")\n",
    "plt.legend()\n",
    "plt.show()"
   ]
  },
  {
   "cell_type": "markdown",
   "id": "6af15d51",
   "metadata": {},
   "source": [
    "## Periodic boundary condition\n",
    "\n",
    "### Exact evolution via QuSpin"
   ]
  },
  {
   "cell_type": "code",
   "execution_count": 11,
   "id": "5f861995",
   "metadata": {},
   "outputs": [
    {
     "name": "stdout",
     "output_type": "stream",
     "text": [
      "Hermiticity check passed!\n",
      "Particle conservation check passed!\n",
      "QuSpin run time 0.0 s\n"
     ]
    },
    {
     "name": "stderr",
     "output_type": "stream",
     "text": [
      "/home/denys/anaconda3/lib/python3.7/site-packages/ipykernel_launcher.py:24: UserWarning: Test for symmetries not implemented for <class 'quspin.basis.basis_1d.boson.boson_basis_1d'>, to turn off this warning set check_symm=False in hamiltonian\n"
     ]
    }
   ],
   "source": [
    "t0 = time.time()\n",
    "\n",
    "Ψ_exact_pbc = exact_evolve(ψ0, times, is_pbc=True, **bh_params)\n",
    "\n",
    "print(\"QuSpin run time {:.1f} s\".format(time.time() - t0))"
   ]
  },
  {
   "cell_type": "markdown",
   "id": "7d85feca",
   "metadata": {},
   "source": [
    "### The first order Skolem evolution"
   ]
  },
  {
   "cell_type": "code",
   "execution_count": 12,
   "id": "ecebe0ee",
   "metadata": {},
   "outputs": [
    {
     "name": "stdout",
     "output_type": "stream",
     "text": [
      "Preparation of basis and Skolem diagonalization: 0.1 s\n",
      "Skolem propagation: 0.0 s\n",
      "Total Skolem method run time 0.0 s\n"
     ]
    }
   ],
   "source": [
    "t0 = time.time()\n",
    "\n",
    "Ψ_skolem_pbc_1ord = [ψ0,]\n",
    "\n",
    "for _ in times[1:]:\n",
    "    Ψ_skolem_pbc_1ord.append(\n",
    "        skolem_method_1ord.propagate(Ψ_skolem_pbc_1ord[-1], is_pbc=True)\n",
    "    )\n",
    "    \n",
    "Ψ_skolem_pbc_1ord = np.array(Ψ_skolem_pbc_1ord).T\n",
    "\n",
    "time_propagate_skolem_1ord = time.time() - t0\n",
    "\n",
    "print(\"Preparation of basis and Skolem diagonalization: {:.1f} s\".format(time_prepare_skolem_1ord))\n",
    "print(\"Skolem propagation: {:.1f} s\".format(time_propagate_skolem_1ord))\n",
    "\n",
    "print(\"Total Skolem method run time {:.1f} s\".format(time_propagate_skolem_1ord + time_propagate_skolem_1ord))"
   ]
  },
  {
   "cell_type": "markdown",
   "id": "d17e2dcb",
   "metadata": {},
   "source": [
    "### The second order Skolem evolution"
   ]
  },
  {
   "cell_type": "code",
   "execution_count": 13,
   "id": "4dcbf5c4",
   "metadata": {},
   "outputs": [
    {
     "name": "stdout",
     "output_type": "stream",
     "text": [
      "Preparation of basis and Skolem diagonalization: 0.0 s\n",
      "Skolem propagation: 0.0 s\n",
      "Total Skolem method run time 0.0 s\n"
     ]
    }
   ],
   "source": [
    "t0 = time.time()\n",
    "\n",
    "Ψ_skolem_pbc_2ord = [ψ0,]\n",
    "\n",
    "for _ in times[1:]:\n",
    "    Ψ_skolem_pbc_2ord.append(\n",
    "        skolem_method_2ord.propagate(Ψ_skolem_pbc_2ord[-1], is_pbc=True)\n",
    "    )\n",
    "    \n",
    "Ψ_skolem_pbc_2ord = np.array(Ψ_skolem_pbc_2ord).T\n",
    "\n",
    "time_propagate_skolem_2ord = time.time() - t0\n",
    "\n",
    "print(\"Preparation of basis and Skolem diagonalization: {:.1f} s\".format(time_prepare_skolem_2ord))\n",
    "print(\"Skolem propagation: {:.1f} s\".format(time_propagate_skolem_2ord))\n",
    "\n",
    "print(\"Total Skolem method run time {:.1f} s\".format(time_propagate_skolem_2ord + time_propagate_skolem_2ord))"
   ]
  },
  {
   "cell_type": "markdown",
   "id": "f1fec43f",
   "metadata": {},
   "source": [
    "### Periodic boundary condition: Norm difference between exact and Skolem propagator"
   ]
  },
  {
   "cell_type": "code",
   "execution_count": 19,
   "id": "dfded5d4",
   "metadata": {},
   "outputs": [
    {
     "data": {
      "image/png": "[encoded data removed]",
      "text/plain": [
       "<Figure size 640x480 with 1 Axes>"
      ]
     },
     "metadata": {},
     "output_type": "display_data"
    }
   ],
   "source": [
    "#plt.title(\"Norm difference between exact and Skolem propagator\")\n",
    "plt.plot(times, norm(Ψ_skolem_pbc_1ord - Ψ_exact_pbc, axis=0) / bh_params['dt'] , label=r\"first order $j=1$\")\n",
    "plt.plot(times, norm(Ψ_skolem_pbc_2ord - Ψ_exact_pbc, axis=0) / bh_params['dt'] ** 2, label=r\"second order $j=2$\")\n",
    "plt.xlabel(\"$t$, time\")\n",
    "plt.ylabel(r\"$\\|\\|\\Psi_{skolem}^{(j)}(t) - \\Psi_{exact}(t)\\|\\| \\quad / \\, \\Delta t^{j}$\")\n",
    "plt.legend()\n",
    "plt.show()"
   ]
  },
  {
   "cell_type": "code",
   "execution_count": null,
   "id": "03060f2d",
   "metadata": {},
   "outputs": [],
   "source": []
  }
 ],
 "metadata": {
  "kernelspec": {
   "display_name": "Python 3 (ipykernel)",
   "language": "python",
   "name": "python3"
  },
  "language_info": {
   "codemirror_mode": {
    "name": "ipython",
    "version": 3
   },
   "file_extension": ".py",
   "mimetype": "text/x-python",
   "name": "python",
   "nbconvert_exporter": "python",
   "pygments_lexer": "ipython3",
   "version": "3.7.11"
  }
 },
 "nbformat": 4,
 "nbformat_minor": 5
}
