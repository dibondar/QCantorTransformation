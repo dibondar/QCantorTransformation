{
 "cells": [
  {
   "cell_type": "markdown",
   "id": "9ec37249",
   "metadata": {},
   "source": [
    "# Optomechanics"
   ]
  },
  {
   "cell_type": "code",
   "execution_count": 1,
   "id": "2498b32d",
   "metadata": {},
   "outputs": [],
   "source": [
    "import numpy as np\n",
    "import matplotlib.pyplot as plt\n",
    "from scipy.linalg import eigh_tridiagonal"
   ]
  },
  {
   "cell_type": "markdown",
   "id": "16b96806",
   "metadata": {},
   "source": [
    "## QuTip\n",
    "\n",
    "System Parameters (in units of wm)\n",
    "\n",
    "https://github.com/qutip/qutip-notebooks/blob/master/examples/optomechanical-steadystate.ipynb"
   ]
  },
  {
   "cell_type": "code",
   "execution_count": 2,
   "id": "948ea23b",
   "metadata": {},
   "outputs": [],
   "source": [
    "from qutip import tensor, destroy, qeye\n",
    "\n",
    "# System Parameters (in units of wm)\n",
    "#-----------------------------------\n",
    "Nc = 20                      # Number of cavity states\n",
    "Nm = 20                     # Number of mech states\n",
    "kappa = 0.3                 # Cavity damping rate\n",
    "E = 0.1                     # Driving Amplitude         \n",
    "g0 = 2.4*kappa              # Coupling strength\n",
    "Qm = 1e4                    # Mech quality factor\n",
    "gamma = 1/Qm                # Mech damping rate\n",
    "n_th = 1                    # Mech bath temperature\n",
    "delta = -0.43               # Detuning\n",
    "\n",
    "\n",
    "\n",
    "# Operators\n",
    "#----------\n",
    "a = tensor(destroy(Nc), qeye(Nm))\n",
    "b = tensor(qeye(Nc), destroy(Nm))\n",
    "num_b = b.dag()*b\n",
    "num_a = a.dag()*a\n",
    "\n",
    "# Hamiltonian\n",
    "#------------\n",
    "H = -delta * num_a + num_b + g0 * (b.dag() + b) * num_a #+ E*(a.dag()+a)"
   ]
  },
  {
   "cell_type": "code",
   "execution_count": 3,
   "id": "bc676585",
   "metadata": {},
   "outputs": [],
   "source": [
    "qutip_energies = H.eigenenergies()"
   ]
  },
  {
   "cell_type": "markdown",
   "id": "7de876cf",
   "metadata": {},
   "source": [
    "## Tridiagonalization method"
   ]
  },
  {
   "cell_type": "code",
   "execution_count": 4,
   "id": "25e0b498",
   "metadata": {},
   "outputs": [],
   "source": [
    "na_range = np.arange(Nc)\n",
    "nb_range = np.arange(Nm, -1, -1)\n",
    "\n",
    "\n",
    "# cartesian product \n",
    "na = np.repeat(na_range, nb_range.size)\n",
    "nb = np.tile(nb_range, na_range.size)"
   ]
  },
  {
   "cell_type": "code",
   "execution_count": 5,
   "id": "97cb061c",
   "metadata": {},
   "outputs": [
    {
     "data": {
      "text/plain": [
       "(array([ 0,  0,  0,  0,  0,  0,  0,  0,  0,  0,  0,  0,  0,  0,  0,  0,  0,\n",
       "         0,  0,  0,  0,  1,  1,  1,  1,  1,  1,  1,  1,  1,  1,  1,  1,  1,\n",
       "         1,  1,  1,  1,  1,  1,  1,  1,  2,  2,  2,  2,  2,  2,  2,  2,  2,\n",
       "         2,  2,  2,  2,  2,  2,  2,  2,  2,  2,  2,  2,  3,  3,  3,  3,  3,\n",
       "         3,  3,  3,  3,  3,  3,  3,  3,  3,  3,  3,  3,  3,  3,  3,  3,  4,\n",
       "         4,  4,  4,  4,  4,  4,  4,  4,  4,  4,  4,  4,  4,  4,  4,  4,  4,\n",
       "         4,  4,  4,  5,  5,  5,  5,  5,  5,  5,  5,  5,  5,  5,  5,  5,  5,\n",
       "         5,  5,  5,  5,  5,  5,  5,  6,  6,  6,  6,  6,  6,  6,  6,  6,  6,\n",
       "         6,  6,  6,  6,  6,  6,  6,  6,  6,  6,  6,  7,  7,  7,  7,  7,  7,\n",
       "         7,  7,  7,  7,  7,  7,  7,  7,  7,  7,  7,  7,  7,  7,  7,  8,  8,\n",
       "         8,  8,  8,  8,  8,  8,  8,  8,  8,  8,  8,  8,  8,  8,  8,  8,  8,\n",
       "         8,  8,  9,  9,  9,  9,  9,  9,  9,  9,  9,  9,  9,  9,  9,  9,  9,\n",
       "         9,  9,  9,  9,  9,  9, 10, 10, 10, 10, 10, 10, 10, 10, 10, 10, 10,\n",
       "        10, 10, 10, 10, 10, 10, 10, 10, 10, 10, 11, 11, 11, 11, 11, 11, 11,\n",
       "        11, 11, 11, 11, 11, 11, 11, 11, 11, 11, 11, 11, 11, 11, 12, 12, 12,\n",
       "        12, 12, 12, 12, 12, 12, 12, 12, 12, 12, 12, 12, 12, 12, 12, 12, 12,\n",
       "        12, 13, 13, 13, 13, 13, 13, 13, 13, 13, 13, 13, 13, 13, 13, 13, 13,\n",
       "        13, 13, 13, 13, 13, 14, 14, 14, 14, 14, 14, 14, 14, 14, 14, 14, 14,\n",
       "        14, 14, 14, 14, 14, 14, 14, 14, 14, 15, 15, 15, 15, 15, 15, 15, 15,\n",
       "        15, 15, 15, 15, 15, 15, 15, 15, 15, 15, 15, 15, 15, 16, 16, 16, 16,\n",
       "        16, 16, 16, 16, 16, 16, 16, 16, 16, 16, 16, 16, 16, 16, 16, 16, 16,\n",
       "        17, 17, 17, 17, 17, 17, 17, 17, 17, 17, 17, 17, 17, 17, 17, 17, 17,\n",
       "        17, 17, 17, 17, 18, 18, 18, 18, 18, 18, 18, 18, 18, 18, 18, 18, 18,\n",
       "        18, 18, 18, 18, 18, 18, 18, 18, 19, 19, 19, 19, 19, 19, 19, 19, 19,\n",
       "        19, 19, 19, 19, 19, 19, 19, 19, 19, 19, 19, 19]),\n",
       " array([20, 19, 18, 17, 16, 15, 14, 13, 12, 11, 10,  9,  8,  7,  6,  5,  4,\n",
       "         3,  2,  1,  0, 20, 19, 18, 17, 16, 15, 14, 13, 12, 11, 10,  9,  8,\n",
       "         7,  6,  5,  4,  3,  2,  1,  0, 20, 19, 18, 17, 16, 15, 14, 13, 12,\n",
       "        11, 10,  9,  8,  7,  6,  5,  4,  3,  2,  1,  0, 20, 19, 18, 17, 16,\n",
       "        15, 14, 13, 12, 11, 10,  9,  8,  7,  6,  5,  4,  3,  2,  1,  0, 20,\n",
       "        19, 18, 17, 16, 15, 14, 13, 12, 11, 10,  9,  8,  7,  6,  5,  4,  3,\n",
       "         2,  1,  0, 20, 19, 18, 17, 16, 15, 14, 13, 12, 11, 10,  9,  8,  7,\n",
       "         6,  5,  4,  3,  2,  1,  0, 20, 19, 18, 17, 16, 15, 14, 13, 12, 11,\n",
       "        10,  9,  8,  7,  6,  5,  4,  3,  2,  1,  0, 20, 19, 18, 17, 16, 15,\n",
       "        14, 13, 12, 11, 10,  9,  8,  7,  6,  5,  4,  3,  2,  1,  0, 20, 19,\n",
       "        18, 17, 16, 15, 14, 13, 12, 11, 10,  9,  8,  7,  6,  5,  4,  3,  2,\n",
       "         1,  0, 20, 19, 18, 17, 16, 15, 14, 13, 12, 11, 10,  9,  8,  7,  6,\n",
       "         5,  4,  3,  2,  1,  0, 20, 19, 18, 17, 16, 15, 14, 13, 12, 11, 10,\n",
       "         9,  8,  7,  6,  5,  4,  3,  2,  1,  0, 20, 19, 18, 17, 16, 15, 14,\n",
       "        13, 12, 11, 10,  9,  8,  7,  6,  5,  4,  3,  2,  1,  0, 20, 19, 18,\n",
       "        17, 16, 15, 14, 13, 12, 11, 10,  9,  8,  7,  6,  5,  4,  3,  2,  1,\n",
       "         0, 20, 19, 18, 17, 16, 15, 14, 13, 12, 11, 10,  9,  8,  7,  6,  5,\n",
       "         4,  3,  2,  1,  0, 20, 19, 18, 17, 16, 15, 14, 13, 12, 11, 10,  9,\n",
       "         8,  7,  6,  5,  4,  3,  2,  1,  0, 20, 19, 18, 17, 16, 15, 14, 13,\n",
       "        12, 11, 10,  9,  8,  7,  6,  5,  4,  3,  2,  1,  0, 20, 19, 18, 17,\n",
       "        16, 15, 14, 13, 12, 11, 10,  9,  8,  7,  6,  5,  4,  3,  2,  1,  0,\n",
       "        20, 19, 18, 17, 16, 15, 14, 13, 12, 11, 10,  9,  8,  7,  6,  5,  4,\n",
       "         3,  2,  1,  0, 20, 19, 18, 17, 16, 15, 14, 13, 12, 11, 10,  9,  8,\n",
       "         7,  6,  5,  4,  3,  2,  1,  0, 20, 19, 18, 17, 16, 15, 14, 13, 12,\n",
       "        11, 10,  9,  8,  7,  6,  5,  4,  3,  2,  1,  0]))"
      ]
     },
     "execution_count": 5,
     "metadata": {},
     "output_type": "execute_result"
    }
   ],
   "source": [
    "na, nb"
   ]
  },
  {
   "cell_type": "code",
   "execution_count": 6,
   "id": "1119eb84",
   "metadata": {},
   "outputs": [],
   "source": [
    "tridiag_energies = eigh_tridiagonal(\n",
    "    -delta * na + nb, g0 * (na * np.sqrt(nb))[:-1],\n",
    "    eigvals_only = True\n",
    ")"
   ]
  },
  {
   "cell_type": "markdown",
   "id": "f65c83c9",
   "metadata": {},
   "source": [
    "## Comparison "
   ]
  },
  {
   "cell_type": "code",
   "execution_count": 7,
   "id": "3fc9fd53",
   "metadata": {},
   "outputs": [
    {
     "data": {
      "image/png": "[encoded data removed]",
      "text/plain": [
       "<Figure size 640x480 with 1 Axes>"
      ]
     },
     "metadata": {},
     "output_type": "display_data"
    }
   ],
   "source": [
    "plt.plot(qutip_energies, \".\", label=\"qutip\")\n",
    "plt.plot(tridiag_energies, \".\", label=\"tridiaginalization\")\n",
    "plt.xlabel(\"index\")\n",
    "plt.ylabel(\"Energy\")\n",
    "plt.legend()\n",
    "plt.show()"
   ]
  },
  {
   "cell_type": "code",
   "execution_count": null,
   "id": "28b48862",
   "metadata": {},
   "outputs": [],
   "source": []
  }
 ],
 "metadata": {
  "kernelspec": {
   "display_name": "Python 3 (ipykernel)",
   "language": "python",
   "name": "python3"
  },
  "language_info": {
   "codemirror_mode": {
    "name": "ipython",
    "version": 3
   },
   "file_extension": ".py",
   "mimetype": "text/x-python",
   "name": "python",
   "nbconvert_exporter": "python",
   "pygments_lexer": "ipython3",
   "version": "3.9.13"
  }
 },
 "nbformat": 4,
 "nbformat_minor": 5
}
