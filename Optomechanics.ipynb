{
 "cells": [
  {
   "cell_type": "markdown",
   "id": "8052f227",
   "metadata": {},
   "source": [
    "# Optomechanics"
   ]
  },
  {
   "cell_type": "code",
   "execution_count": 1,
   "id": "089e1f88",
   "metadata": {},
   "outputs": [],
   "source": [
    "import numpy as np\n",
    "import matplotlib.pyplot as plt\n",
    "from scipy.linalg import eigh_tridiagonal"
   ]
  },
  {
   "cell_type": "markdown",
   "id": "4209e4de",
   "metadata": {},
   "source": [
    "## Going from $n$ to $z$"
   ]
  },
  {
   "cell_type": "code",
   "execution_count": 2,
   "id": "cadc4d83",
   "metadata": {},
   "outputs": [],
   "source": [
    "def Cantor(x, y):\n",
    "    return (x + y) * (x + y + 1) / 2 + y"
   ]
  },
  {
   "cell_type": "code",
   "execution_count": 3,
   "id": "b35dab8f",
   "metadata": {},
   "outputs": [],
   "source": [
    "# find the bounds \n",
    "Nb = 11"
   ]
  },
  {
   "cell_type": "code",
   "execution_count": 4,
   "id": "2a305e9d",
   "metadata": {},
   "outputs": [],
   "source": [
    "na = np.arange(Nb + 1)[np.newaxis, :]\n",
    "nb = np.arange(Nb + 1)[:, np.newaxis]\n",
    "\n",
    "z = Cantor(na + nb, na + Nb - nb)\n",
    "z = z.reshape(-1)\n",
    "z.sort()"
   ]
  },
  {
   "cell_type": "code",
   "execution_count": 5,
   "id": "296c0acc",
   "metadata": {},
   "outputs": [
    {
     "data": {
      "text/plain": [
       "66.0"
      ]
     },
     "execution_count": 5,
     "metadata": {},
     "output_type": "execute_result"
    }
   ],
   "source": [
    "z.min()"
   ]
  },
  {
   "cell_type": "code",
   "execution_count": 6,
   "id": "94b6fdfa",
   "metadata": {},
   "outputs": [
    {
     "data": {
      "text/plain": [
       "Text(0.5, 0, 'order')"
      ]
     },
     "execution_count": 6,
     "metadata": {},
     "output_type": "execute_result"
    },
    {
     "data": {
      "image/png": "[encoded data removed]",
      "text/plain": [
       "<Figure size 640x480 with 1 Axes>"
      ]
     },
     "metadata": {},
     "output_type": "display_data"
    }
   ],
   "source": [
    "plt.title(r\"Seeing gaps in the $n \\to z$ mapping\")\n",
    "plt.plot(z, '*')\n",
    "plt.ylabel(\"z\")\n",
    "plt.xlabel(\"order\")"
   ]
  },
  {
   "cell_type": "markdown",
   "id": "1f99636b",
   "metadata": {},
   "source": [
    "## Going from z to n -- Works great! No gaps in $n_a$ and $n_b$"
   ]
  },
  {
   "cell_type": "code",
   "execution_count": 7,
   "id": "3a748669",
   "metadata": {},
   "outputs": [],
   "source": [
    "z_min = Cantor(Nb, 0)\n",
    "z = np.arange(z_min, z_min + 50)\n",
    "\n",
    "w = np.floor(0.5 * (np.sqrt(8 * z + 1) - 1))\n",
    "y = z - w * (w + 1) / 2\n",
    "x = w - y\n",
    "\n",
    "nb = x.astype(int)\n",
    "\n",
    "na = (y + nb - Nb).astype(int)"
   ]
  },
  {
   "cell_type": "code",
   "execution_count": 8,
   "id": "1474025d",
   "metadata": {},
   "outputs": [
    {
     "data": {
      "text/plain": [
       "array([0, 1, 2, 3])"
      ]
     },
     "execution_count": 8,
     "metadata": {},
     "output_type": "execute_result"
    }
   ],
   "source": [
    "np.unique(na)"
   ]
  },
  {
   "cell_type": "code",
   "execution_count": 9,
   "id": "d74e8f5d",
   "metadata": {},
   "outputs": [
    {
     "data": {
      "text/plain": [
       "array([ 0,  1,  2,  3,  4,  5,  6,  7,  8,  9, 10, 11, 12, 13, 14])"
      ]
     },
     "execution_count": 9,
     "metadata": {},
     "output_type": "execute_result"
    }
   ],
   "source": [
    "np.unique(nb)"
   ]
  },
  {
   "cell_type": "markdown",
   "id": "e0dfc6f5",
   "metadata": {},
   "source": [
    "## System Parameters (in units of wm)\n",
    "\n",
    "\n",
    "https://github.com/qutip/qutip-notebooks/blob/master/examples/optomechanical-steadystate.ipynb"
   ]
  },
  {
   "cell_type": "code",
   "execution_count": 10,
   "id": "bb734bb4",
   "metadata": {},
   "outputs": [],
   "source": [
    "from qutip import tensor, destroy, qeye\n",
    "\n",
    "# System Parameters (in units of wm)\n",
    "#-----------------------------------\n",
    "Nc = 10                      # Number of cavity states\n",
    "Nm = 10                     # Number of mech states\n",
    "kappa = 0.3                 # Cavity damping rate\n",
    "E = 0.1                     # Driving Amplitude         \n",
    "g0 = 2.4*kappa              # Coupling strength\n",
    "Qm = 1e4                    # Mech quality factor\n",
    "gamma = 1/Qm                # Mech damping rate\n",
    "n_th = 1                    # Mech bath temperature\n",
    "delta = -0.43               # Detuning\n",
    "\n",
    "\n",
    "\n",
    "# Operators\n",
    "#----------\n",
    "a = tensor(destroy(Nc), qeye(Nm))\n",
    "b = tensor(qeye(Nc), destroy(Nm))\n",
    "num_b = b.dag()*b\n",
    "num_a = a.dag()*a\n",
    "\n",
    "# Hamiltonian\n",
    "#------------\n",
    "H = -delta * num_a + num_b + g0 * (b.dag() + b) * num_a #+ E*(a.dag()+a)"
   ]
  },
  {
   "cell_type": "code",
   "execution_count": 11,
   "id": "0b8738c4",
   "metadata": {},
   "outputs": [
    {
     "data": {
      "text/plain": [
       "array([-20.90826029, -17.87330797, -14.85043848, -14.44062722,\n",
       "       -12.32331958, -11.84755274, -10.21541468,  -8.88132379,\n",
       "        -8.38479787,  -8.12158855])"
      ]
     },
     "execution_count": 11,
     "metadata": {},
     "output_type": "execute_result"
    }
   ],
   "source": [
    "H.eigenenergies()[:10]"
   ]
  },
  {
   "cell_type": "code",
   "execution_count": 12,
   "id": "3deeab2b",
   "metadata": {},
   "outputs": [
    {
     "data": {
      "text/plain": [
       "array([-3.6602446 , -2.04912682, -1.57619869, -0.50039971, -0.42170862,\n",
       "       -0.21357879,  0.7869795 ,  0.9116    ,  1.        ,  1.67971705])"
      ]
     },
     "execution_count": 12,
     "metadata": {},
     "output_type": "execute_result"
    }
   ],
   "source": [
    "eigh_tridiagonal(\n",
    "    -delta * na + nb, g0 * (na * np.sqrt(nb))[1::],\n",
    "    eigvals_only = True\n",
    ")[:10]"
   ]
  },
  {
   "cell_type": "code",
   "execution_count": null,
   "id": "79f49df9",
   "metadata": {},
   "outputs": [],
   "source": []
  },
  {
   "cell_type": "code",
   "execution_count": null,
   "id": "bcc11d6c",
   "metadata": {},
   "outputs": [],
   "source": []
  }
 ],
 "metadata": {
  "kernelspec": {
   "display_name": "Python 3 (ipykernel)",
   "language": "python",
   "name": "python3"
  },
  "language_info": {
   "codemirror_mode": {
    "name": "ipython",
    "version": 3
   },
   "file_extension": ".py",
   "mimetype": "text/x-python",
   "name": "python",
   "nbconvert_exporter": "python",
   "pygments_lexer": "ipython3",
   "version": "3.9.13"
  }
 },
 "nbformat": 4,
 "nbformat_minor": 5
}
