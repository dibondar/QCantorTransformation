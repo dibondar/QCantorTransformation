{
 "cells": [
  {
   "cell_type": "markdown",
   "id": "1bcd33db",
   "metadata": {},
   "source": [
    "# 3 sight Bose Hubbard model via Skolem Tridiagonalization \n",
    "\n",
    "## Number theoretical tools: The Skolem polynomials and its inverse"
   ]
  },
  {
   "cell_type": "code",
   "execution_count": 1,
   "id": "13ae2114",
   "metadata": {},
   "outputs": [],
   "source": [
    "from scipy.special import comb\n",
    "\n",
    "def combinadics_from_index(N, k):\n",
    "    \"\"\"\n",
    "    This function converts a natural number N as sequences of k-combinations. \n",
    "    This is referred to as the combinatorial number system of degree k (for some positive integer k).\n",
    "    \n",
    "    See https://planetcalc.com/8592/\n",
    "    \"\"\"\n",
    "    combinadics = [0] * k\n",
    "    \n",
    "    c_start = max(N, k)\n",
    "    \n",
    "    for j in range(k, 0, -1):\n",
    "    \n",
    "        # the loop over c can be written more efficiently by using the bisection method\n",
    "        for c in range(c_start, -1, -1):\n",
    "            \n",
    "            q = comb(c, j)\n",
    "            \n",
    "            if q <= N:\n",
    "                break\n",
    "                print(c)\n",
    "                \n",
    "        c_start = c - 1\n",
    "        N -= q\n",
    "        combinadics[k - j] = c\n",
    "    \n",
    "    return combinadics\n",
    "\n",
    "def index_from_combinadics(combinadics):\n",
    "    \"\"\"\n",
    "    This function returns index from the combinadics.\n",
    "    \n",
    "    Note:\n",
    "        assert index_from_combinadics(combinadics_from_index(N, k)) == N\n",
    "    \"\"\"\n",
    "    return sum(\n",
    "        comb(c, j + 1) for j, c in enumerate(reversed(combinadics))\n",
    "    )\n",
    "\n",
    "def skolem(ntuple):\n",
    "    \"\"\"\n",
    "    Evaluate the Skolem polynomial from tuple\n",
    "    \"\"\"\n",
    "    return int(sum(\n",
    "        comb(sum(ntuple[:k]) + k - 1, k) for k in range(1, len(ntuple) + 1)\n",
    "    ))\n",
    "\n",
    "def tuple_from_skolem(S, k):\n",
    "    \"The inverse of the Skolem polynomials\"\n",
    "    \n",
    "    combinadics = combinadics_from_index(S, k)\n",
    "    \n",
    "    assert index_from_combinadics(combinadics) == S\n",
    "\n",
    "    ntuple = [0] * k\n",
    "    \n",
    "    ntuple[0] = combinadics[-1]\n",
    "    \n",
    "    for j in range(1, k):\n",
    "        ntuple[j] = combinadics[k - j - 1] - j - sum(ntuple[:j])\n",
    "    \n",
    "    return ntuple"
   ]
  },
  {
   "cell_type": "code",
   "execution_count": 2,
   "id": "7c65d88c",
   "metadata": {},
   "outputs": [
    {
     "data": {
      "text/plain": [
       "[0, 0, 1]"
      ]
     },
     "execution_count": 2,
     "metadata": {},
     "output_type": "execute_result"
    }
   ],
   "source": [
    "# trivial test\n",
    "\n",
    "tuple_from_skolem(skolem([0, 0, 1]), 3)"
   ]
  },
  {
   "cell_type": "code",
   "execution_count": 3,
   "id": "36391592",
   "metadata": {},
   "outputs": [],
   "source": [
    "import numpy as np\n",
    "import numpy as np\n",
    "import matplotlib.pyplot as plt\n",
    "from scipy.linalg import eigh_tridiagonal, expm\n",
    "\n",
    "U = 1\n",
    "J = 1\n",
    "Δt = 0.1\n",
    "\n",
    "N = 3\n",
    "\n",
    "# the cut off of Skolem index\n",
    "S_max = max(skolem([N, 0, 0]), skolem([0, N, 0]), skolem([0, 0, N]))\n",
    "\n",
    "skolem_321 = np.arange(skolem([0, 0, N]), skolem([N, 0, 0]) + 1)\n",
    "\n",
    "# This ordering is to be compartible with QuSpin\n",
    "n3, n2, n1 = np.array(\n",
    "    [tuple_from_skolem(S, 3) for S in skolem_321]\n",
    ").T\n",
    "\n",
    "## Reindex (n3, n2, n1) <-> (n1, n2, n3)\n",
    "indx = np.array([\n",
    "    skolem(_) for _ in zip(n1, n2, n3)\n",
    "]) - skolem([0, 0, N])"
   ]
  },
  {
   "cell_type": "markdown",
   "id": "ce1d9866",
   "metadata": {},
   "source": [
    "## QuSpin\n",
    "\n",
    "Comparing the implementation of the Bose-Hubbard Model in the QuSpin library by following: https://github.com/weinbe58/QuSpin/blob/master/examples/notebooks/BHM.ipynb"
   ]
  },
  {
   "cell_type": "code",
   "execution_count": 4,
   "id": "628e65ea",
   "metadata": {
    "scrolled": true
   },
   "outputs": [
    {
     "name": "stdout",
     "output_type": "stream",
     "text": [
      "reference states: \n",
      "array index   /   Fock state   /   integer repr. \n",
      "      0.         |3 0 0>           48  \n",
      "      1.         |2 1 0>           36  \n",
      "      2.         |2 0 1>           33  \n",
      "      3.         |1 2 0>           24  \n",
      "      4.         |1 1 1>           21  \n",
      "      5.         |1 0 2>           18  \n",
      "      6.         |0 3 0>           12  \n",
      "      7.         |0 2 1>            9  \n",
      "      8.         |0 1 2>            6  \n",
      "      9.         |0 0 3>            3  \n",
      "\n",
      "\n",
      "[3 2 2 1 1 1 0 0 0 0] [0 1 0 2 1 0 3 2 1 0] [0 0 1 0 1 2 0 1 2 3]\n"
     ]
    }
   ],
   "source": [
    "from quspin.operators import hamiltonian # Hamiltonians and operators\n",
    "from quspin.basis import boson_basis_1d # Hilbert space boson basis\n",
    "\n",
    "\n",
    "##### construct Bose-Hubbard Hamiltonian #####\n",
    "# define boson basis with N states per site L bosons in the lattice\n",
    "L = 3\n",
    "basis = boson_basis_1d(3, Nb=N) # full boson basis\n",
    "print(basis)\n",
    "print(\"\\n\")\n",
    "\n",
    "print(n1, n2, n3)"
   ]
  },
  {
   "cell_type": "markdown",
   "id": "bdac175d",
   "metadata": {},
   "source": [
    "### $\\hat{H}_{23}$ via QuSpin"
   ]
  },
  {
   "cell_type": "code",
   "execution_count": 5,
   "id": "dbf0ee9b",
   "metadata": {
    "scrolled": true
   },
   "outputs": [
    {
     "name": "stdout",
     "output_type": "stream",
     "text": [
      "Hermiticity check passed!\n",
      "Particle conservation check passed!\n"
     ]
    },
    {
     "data": {
      "image/png": "[encoded data removed]",
      "text/plain": [
       "<Figure size 640x480 with 2 Axes>"
      ]
     },
     "metadata": {},
     "output_type": "display_data"
    }
   ],
   "source": [
    "H_23 = hamiltonian(\n",
    "    [\n",
    "        ['+-', [[-J, 1, 2]]], \n",
    "        ['-+', [[-J, 1, 2]]], \n",
    "        ['nn', [[0.5 * U, 1, 1], [U, 2, 2]]], \n",
    "        ['n', [[-0.5 * U, 1], [-U, 2]]]\n",
    "    ], \n",
    "    [], \n",
    "    basis = basis, \n",
    "    dtype = np.float64,\n",
    "    check_symm = False\n",
    ")\n",
    "\n",
    "plt.title(\"$\\hat{H}_{23}$ obtained via QuSpin\")\n",
    "plt.imshow(H_23.todense())\n",
    "plt.colorbar()\n",
    "plt.show()"
   ]
  },
  {
   "cell_type": "markdown",
   "id": "6e160cf8",
   "metadata": {},
   "source": [
    "### Get $\\exp(-i\\Delta t \\hat{H}_{23})$ via tridiagonalization"
   ]
  },
  {
   "cell_type": "code",
   "execution_count": 6,
   "id": "4dc692f3",
   "metadata": {},
   "outputs": [],
   "source": [
    "E_23_tridiag, v = eigh_tridiagonal(\n",
    "    0.5 * U * n2 * (n2 - 1) + U * n3 * (n3 - 1),\n",
    "    -J * np.sqrt((n2 + 1) * n3)[1:],\n",
    ")\n",
    "\n",
    "expH_23_tridiag = (v * np.exp(-1j * Δt * E_23_tridiag)) @ v.T"
   ]
  },
  {
   "cell_type": "markdown",
   "id": "99a821aa",
   "metadata": {},
   "source": [
    "compare"
   ]
  },
  {
   "cell_type": "code",
   "execution_count": 7,
   "id": "2e0ea49c",
   "metadata": {},
   "outputs": [
    {
     "data": {
      "text/plain": [
       "True"
      ]
     },
     "execution_count": 7,
     "metadata": {},
     "output_type": "execute_result"
    }
   ],
   "source": [
    "np.allclose(\n",
    "    expH_23_tridiag, \n",
    "    expm(-1j * Δt * H_23.todense())\n",
    ")"
   ]
  },
  {
   "cell_type": "markdown",
   "id": "20ca5ee5",
   "metadata": {},
   "source": [
    "### $\\hat{H}_{12}$ via QuSpin"
   ]
  },
  {
   "cell_type": "code",
   "execution_count": 8,
   "id": "ad058600",
   "metadata": {},
   "outputs": [
    {
     "name": "stdout",
     "output_type": "stream",
     "text": [
      "Hermiticity check passed!\n",
      "Particle conservation check passed!\n"
     ]
    }
   ],
   "source": [
    "H_12 = hamiltonian(\n",
    "    [\n",
    "        ['+-', [[-J, 0, 1]]], \n",
    "        ['-+', [[-J, 0, 1]]], \n",
    "        ['nn', [[U, 0, 0], [0.5 * U, 1, 1]]], \n",
    "        ['n', [[-U, 0], [-0.5 * U, 1]]]\n",
    "    ],\n",
    "    [], \n",
    "    basis = basis, \n",
    "    dtype = np.float64,\n",
    "    check_symm = False\n",
    ")"
   ]
  },
  {
   "cell_type": "code",
   "execution_count": 9,
   "id": "f5ecbc92",
   "metadata": {},
   "outputs": [
    {
     "data": {
      "image/png": "[encoded data removed]",
      "text/plain": [
       "<Figure size 640x480 with 2 Axes>"
      ]
     },
     "metadata": {},
     "output_type": "display_data"
    },
    {
     "data": {
      "image/png": "[encoded data removed]",
      "text/plain": [
       "<Figure size 640x480 with 2 Axes>"
      ]
     },
     "metadata": {},
     "output_type": "display_data"
    }
   ],
   "source": [
    "plt.title(\"$\\hat{H}_{23}$ obtained via QuSpin\")\n",
    "plt.imshow(H_12.todense())\n",
    "plt.colorbar()\n",
    "plt.show()\n",
    "\n",
    "plt.title(\"Reindexed $\\hat{H}_{23}$ obtained via QuSpin\")\n",
    "plt.imshow(H_12.todense()[indx, :][:, indx])\n",
    "plt.colorbar()\n",
    "plt.show()\n"
   ]
  },
  {
   "cell_type": "markdown",
   "id": "808a99ff",
   "metadata": {},
   "source": [
    "Comparing "
   ]
  },
  {
   "cell_type": "code",
   "execution_count": 10,
   "id": "0e9f42f7",
   "metadata": {},
   "outputs": [
    {
     "data": {
      "text/plain": [
       "True"
      ]
     },
     "execution_count": 10,
     "metadata": {},
     "output_type": "execute_result"
    }
   ],
   "source": [
    "np.allclose(\n",
    "    expH_23_tridiag[indx, :][:, indx], \n",
    "    expm(-1j * Δt * H_12.todense())\n",
    ")"
   ]
  },
  {
   "cell_type": "markdown",
   "id": "e4ff7be4",
   "metadata": {},
   "source": [
    "Hence, we get the desired split operator propagation matrix  "
   ]
  },
  {
   "cell_type": "code",
   "execution_count": 11,
   "id": "92f48db3",
   "metadata": {},
   "outputs": [
    {
     "data": {
      "text/plain": [
       "<matplotlib.colorbar.Colorbar at 0x7f0c5e375250>"
      ]
     },
     "execution_count": 11,
     "metadata": {},
     "output_type": "execute_result"
    },
    {
     "data": {
      "image/png": "[encoded data removed]",
      "text/plain": [
       "<Figure size 640x480 with 2 Axes>"
      ]
     },
     "metadata": {},
     "output_type": "display_data"
    }
   ],
   "source": [
    "plt.imshow(\n",
    "    np.abs(\n",
    "        expH_23_tridiag @ expH_23_tridiag[indx, :][:, indx]\n",
    "    )\n",
    ")\n",
    "\n",
    "plt.colorbar()"
   ]
  },
  {
   "cell_type": "code",
   "execution_count": null,
   "id": "e9aa2901",
   "metadata": {},
   "outputs": [],
   "source": []
  }
 ],
 "metadata": {
  "kernelspec": {
   "display_name": "Python 3 (ipykernel)",
   "language": "python",
   "name": "python3"
  },
  "language_info": {
   "codemirror_mode": {
    "name": "ipython",
    "version": 3
   },
   "file_extension": ".py",
   "mimetype": "text/x-python",
   "name": "python",
   "nbconvert_exporter": "python",
   "pygments_lexer": "ipython3",
   "version": "3.7.11"
  }
 },
 "nbformat": 4,
 "nbformat_minor": 5
}
