{
 "cells": [
  {
   "cell_type": "code",
   "execution_count": null,
   "id": "c6c2e5c2",
   "metadata": {},
   "outputs": [],
   "source": []
  },
  {
   "cell_type": "markdown",
   "id": "1bcd33db",
   "metadata": {},
   "source": [
    "## Number theoretical tools: The Skolem polynomials and its inverse"
   ]
  },
  {
   "cell_type": "code",
   "execution_count": 186,
   "id": "13ae2114",
   "metadata": {},
   "outputs": [],
   "source": [
    "from math import comb\n",
    "\n",
    "def combinadics_from_index(N, k):\n",
    "    \"\"\"\n",
    "    This function converts a natural number N as sequences of k-combinations. \n",
    "    This is referred to as the combinatorial number system of degree k (for some positive integer k).\n",
    "    \n",
    "    See https://planetcalc.com/8592/\n",
    "    \"\"\"\n",
    "    combinadics = [0] * k\n",
    "    \n",
    "    c_start = max(N, k)\n",
    "    \n",
    "    for j in range(k, 0, -1):\n",
    "    \n",
    "        # the loop over c can be written more efficiently by using the bisection method\n",
    "        for c in range(c_start, -1, -1):\n",
    "            \n",
    "            q = comb(c, j)\n",
    "            \n",
    "            if q <= N:\n",
    "                break\n",
    "                print(c)\n",
    "                \n",
    "        c_start = c - 1\n",
    "        N -= q\n",
    "        combinadics[k - j] = c\n",
    "    \n",
    "    return combinadics\n",
    "\n",
    "def index_from_combinadics(combinadics):\n",
    "    \"\"\"\n",
    "    This function returns index from the combinadics.\n",
    "    \n",
    "    Note:\n",
    "        assert index_from_combinadics(combinadics_from_index(N, k)) == N\n",
    "    \"\"\"\n",
    "    return sum(\n",
    "        comb(c, j + 1) for j, c in enumerate(reversed(combinadics))\n",
    "    )\n",
    "\n",
    "def skolem(ntuple):\n",
    "    \"\"\"\n",
    "    Evaluate the Skolem polynomial from tuple\n",
    "    \"\"\"\n",
    "    return sum(\n",
    "        comb(sum(ntuple[:k]) + k - 1, k) for k in range(1, len(ntuple) + 1)\n",
    "    )\n",
    "\n",
    "def tuple_from_skolem(S, k):\n",
    "    \"The inverse of the Skolem polynomials\"\n",
    "    \n",
    "    combinadics = combinadics_from_index(S, k)\n",
    "    \n",
    "    assert index_from_combinadics(combinadics) == S\n",
    "\n",
    "    ntuple = [0] * k\n",
    "    \n",
    "    ntuple[0] = combinadics[-1]\n",
    "    \n",
    "    for j in range(1, k):\n",
    "        ntuple[j] = combinadics[k - j - 1] - j - sum(ntuple[:j])\n",
    "    \n",
    "    return ntuple"
   ]
  },
  {
   "cell_type": "code",
   "execution_count": 187,
   "id": "7c65d88c",
   "metadata": {},
   "outputs": [
    {
     "data": {
      "text/plain": [
       "[0, 0, 1]"
      ]
     },
     "execution_count": 187,
     "metadata": {},
     "output_type": "execute_result"
    }
   ],
   "source": [
    "tuple_from_skolem(skolem([0, 0, 1]), 3)"
   ]
  },
  {
   "cell_type": "code",
   "execution_count": null,
   "id": "19cf5451",
   "metadata": {},
   "outputs": [],
   "source": []
  },
  {
   "cell_type": "code",
   "execution_count": 193,
   "id": "36391592",
   "metadata": {},
   "outputs": [
    {
     "data": {
      "text/plain": [
       "'\\nskolem_312 = np.array([\\n    skolem(_) for _ in zip(n3, n1, n2)\\n])\\n\\n# check whether the array is continuous -- Great\\nassert np.allclose(np.diff(np.sort(skolem_312)), 1)\\n'"
      ]
     },
     "execution_count": 193,
     "metadata": {},
     "output_type": "execute_result"
    }
   ],
   "source": [
    "import numpy as np\n",
    "import numpy as np\n",
    "import matplotlib.pyplot as plt\n",
    "from scipy.linalg import eigh_tridiagonal, eigvals\n",
    "\n",
    "U = 0.\n",
    "Δt = 0.1\n",
    "\n",
    "N = 3\n",
    "\n",
    "# the cut off of Skolem index\n",
    "S_max = max(skolem([N, 0, 0]), skolem([0, N, 0]), skolem([0, 0, N]))\n",
    "\n",
    "\n",
    "#skolem_123 = np.arange(S_max + 1)\n",
    "skolem_123 = np.arange(skolem([0, 0, N]), skolem([N, 0, 0]) + 1)\n",
    "                              \n",
    "n1, n2, n3 = np.array(\n",
    "    [tuple_from_skolem(S, 3) for S in skolem_123]\n",
    ").T\n",
    "\n",
    "skolem_321 = np.array([\n",
    "    skolem(_) for _ in zip(n3, n2, n1)\n",
    "])\n",
    "\n",
    "# check whether the array is continuous -- Great\n",
    "#assert np.allclose(np.diff(np.sort(skolem_321)), 1)\n",
    "\n",
    "\"\"\"\n",
    "skolem_312 = np.array([\n",
    "    skolem(_) for _ in zip(n3, n1, n2)\n",
    "])\n",
    "\n",
    "# check whether the array is continuous -- Great\n",
    "assert np.allclose(np.diff(np.sort(skolem_312)), 1)\n",
    "\"\"\"\n"
   ]
  },
  {
   "cell_type": "code",
   "execution_count": 194,
   "id": "c2fe6f07",
   "metadata": {},
   "outputs": [
    {
     "data": {
      "text/plain": [
       "(array([0, 0, 1, 0, 1, 2, 0, 1, 2, 3]),\n",
       " array([0, 1, 0, 2, 1, 0, 3, 2, 1, 0]),\n",
       " array([3, 2, 2, 1, 1, 1, 0, 0, 0, 0]))"
      ]
     },
     "execution_count": 194,
     "metadata": {},
     "output_type": "execute_result"
    }
   ],
   "source": [
    "n1, n2, n3"
   ]
  },
  {
   "cell_type": "code",
   "execution_count": 195,
   "id": "c1d7f4b9",
   "metadata": {},
   "outputs": [
    {
     "data": {
      "text/plain": [
       "array([0, 1, 0, 2, 2, 0, 3, 4, 3])"
      ]
     },
     "execution_count": 195,
     "metadata": {},
     "output_type": "execute_result"
    }
   ],
   "source": [
    "((n1 + 1) * n2)[:-1]"
   ]
  },
  {
   "cell_type": "code",
   "execution_count": 196,
   "id": "c40507c3",
   "metadata": {},
   "outputs": [
    {
     "data": {
      "text/plain": [
       "10"
      ]
     },
     "execution_count": 196,
     "metadata": {},
     "output_type": "execute_result"
    }
   ],
   "source": [
    "\n",
    "\"\"\"\n",
    "print(E_123)\n",
    "\n",
    "# The propagator\n",
    "U_123 = v @ np.diag(np.exp(-Δt * E_123)) @ v.conj().T\n",
    "\n",
    "\n",
    "E_321, v = eigh_tridiagonal(\n",
    "    U * n3 * (n3 - 1) + U * n2 * (n2 - 1), \n",
    "    -np.sqrt((n3 + 1) * n2)[1:],\n",
    "    # eigvals_only = True,\n",
    "    #select='i',\n",
    "    #select_range=(0, N ** 2)\n",
    ")\n",
    "\n",
    "# The propagator\n",
    "U_321 = v @ np.diag(np.exp(-Δt * E_321)) @ v.conj().T\n",
    "\n",
    "\n",
    "Permutation = np.zeros_like(v)\n",
    "Permutation[skolem_123, skolem_321] = 1\n",
    "\n",
    "Propagator = Permutation.T @ U_321 @ Permutation @ U_123\n",
    "\"\"\"\n",
    "\n",
    "E_123, v = eigh_tridiagonal(\n",
    "    U * n1 * (n1 - 1),\n",
    "    -np.sqrt((n1 + 1) * n2)[:-1],\n",
    "    # eigvals_only = True,\n",
    "    #select='i',\n",
    "    #select_range=(0, N ** 2)\n",
    ")\n",
    "\n",
    "E_123.size"
   ]
  },
  {
   "cell_type": "code",
   "execution_count": 197,
   "id": "628e65ea",
   "metadata": {},
   "outputs": [
    {
     "ename": "ModuleNotFoundError",
     "evalue": "No module named 'quspin'",
     "output_type": "error",
     "traceback": [
      "\u001b[0;31m---------------------------------------------------------------------------\u001b[0m",
      "\u001b[0;31mModuleNotFoundError\u001b[0m                       Traceback (most recent call last)",
      "Input \u001b[0;32mIn [197]\u001b[0m, in \u001b[0;36m<cell line: 1>\u001b[0;34m()\u001b[0m\n\u001b[0;32m----> 1\u001b[0m \u001b[38;5;28;01mfrom\u001b[39;00m \u001b[38;5;21;01mquspin\u001b[39;00m\u001b[38;5;21;01m.\u001b[39;00m\u001b[38;5;21;01moperators\u001b[39;00m \u001b[38;5;28;01mimport\u001b[39;00m hamiltonian \u001b[38;5;66;03m# Hamiltonians and operators\u001b[39;00m\n\u001b[1;32m      2\u001b[0m \u001b[38;5;28;01mfrom\u001b[39;00m \u001b[38;5;21;01mquspin\u001b[39;00m\u001b[38;5;21;01m.\u001b[39;00m\u001b[38;5;21;01mbasis\u001b[39;00m \u001b[38;5;28;01mimport\u001b[39;00m boson_basis_1d \u001b[38;5;66;03m# Hilbert space boson basis\u001b[39;00m\n\u001b[1;32m      4\u001b[0m \u001b[38;5;66;03m##### define model parameters #####\u001b[39;00m\n",
      "\u001b[0;31mModuleNotFoundError\u001b[0m: No module named 'quspin'"
     ]
    }
   ],
   "source": [
    "from quspin.operators import hamiltonian # Hamiltonians and operators\n",
    "from quspin.basis import boson_basis_1d # Hilbert space boson basis\n",
    "\n",
    "##### define model parameters #####\n",
    "L = 6 # system size\n",
    "J = 1.0 # hopping\n",
    "U = np.sqrt(2.0) # interaction\n",
    "\n",
    "##### construct Bose-Hubbard Hamiltonian #####\n",
    "# define boson basis with 3 states per site L bosons in the lattice\n",
    "basis = boson_basis_1d(L,Nb=L) # full boson basis\n",
    "print(basis)"
   ]
  },
  {
   "cell_type": "code",
   "execution_count": 198,
   "id": "ad058600",
   "metadata": {},
   "outputs": [
    {
     "name": "stdout",
     "output_type": "stream",
     "text": [
      "\u001b[31mERROR: Could not find a version that satisfies the requirement quspin (from versions: none)\u001b[0m\u001b[31m\r\n",
      "\u001b[0m\u001b[31mERROR: No matching distribution found for quspin\u001b[0m\u001b[31m\r\n",
      "\u001b[0m"
     ]
    }
   ],
   "source": [
    "!pip install quspin"
   ]
  },
  {
   "cell_type": "code",
   "execution_count": 199,
   "id": "90febcd8",
   "metadata": {},
   "outputs": [],
   "source": [
    "#a1 = tensor(tensor(qeye(N), qeye(N)), destroy(N))\n",
    "a1 = tensor(qeye(N), tensor(qeye(N), destroy(N)))\n",
    "\n",
    "#a2 = tensor(tensor(qeye(N), destroy(N)), qeye(N))\n",
    "a2 = tensor(qeye(N), tensor(destroy(N), qeye(N)))\n",
    "\n",
    "a3 = tensor(destroy(N), tensor(qeye(N), qeye(N)))\n",
    "\n",
    "num_1 = a1.dag() * a1\n",
    "num_2 = a2.dag() * a2\n",
    "num_3 = a3.dag() * a3\n",
    "\n",
    "E1_qutip = (\n",
    "    -(a1.dag() * a2 + a2.dag() * a1) + U * num_1 * (num_1 - 1)\n",
    ").eigenenergies()"
   ]
  },
  {
   "cell_type": "code",
   "execution_count": 200,
   "id": "a1d0410f",
   "metadata": {},
   "outputs": [],
   "source": [
    "E2_qutip = (\n",
    "    -(a2.dag() * a3 + a3.dag() * a2) + U * num_3 * (num_3 - 1)\n",
    ").eigenenergies()"
   ]
  },
  {
   "cell_type": "code",
   "execution_count": 201,
   "id": "595ce242",
   "metadata": {},
   "outputs": [
    {
     "data": {
      "text/plain": [
       "True"
      ]
     },
     "execution_count": 201,
     "metadata": {},
     "output_type": "execute_result"
    }
   ],
   "source": [
    "np.allclose(E1_qutip, E2_qutip)"
   ]
  },
  {
   "cell_type": "code",
   "execution_count": 205,
   "id": "f22dbcd0",
   "metadata": {},
   "outputs": [
    {
     "data": {
      "text/plain": [
       "array([-2.00000000e+00, -2.00000000e+00, -2.00000000e+00, -2.00000000e+00,\n",
       "       -2.00000000e+00, -2.00000000e+00, -1.00000000e+00, -1.00000000e+00,\n",
       "       -1.00000000e+00,  0.00000000e+00,  0.00000000e+00,  0.00000000e+00,\n",
       "        0.00000000e+00,  0.00000000e+00,  0.00000000e+00,  2.38774531e-16,\n",
       "        2.38774531e-16,  2.38774531e-16,  1.00000000e+00,  1.00000000e+00,\n",
       "        1.00000000e+00,  2.00000000e+00,  2.00000000e+00,  2.00000000e+00,\n",
       "        2.00000000e+00,  2.00000000e+00,  2.00000000e+00])"
      ]
     },
     "execution_count": 205,
     "metadata": {},
     "output_type": "execute_result"
    }
   ],
   "source": [
    "E1_qutip"
   ]
  },
  {
   "cell_type": "code",
   "execution_count": 203,
   "id": "3e2ee55f",
   "metadata": {},
   "outputs": [
    {
     "data": {
      "text/plain": [
       "(array([-2.00000000e+00, -2.00000000e+00, -2.00000000e+00, -2.00000000e+00,\n",
       "        -2.00000000e+00, -2.00000000e+00, -1.00000000e+00, -1.00000000e+00,\n",
       "        -1.00000000e+00,  0.00000000e+00,  0.00000000e+00,  0.00000000e+00,\n",
       "         0.00000000e+00,  0.00000000e+00,  0.00000000e+00,  2.38774531e-16,\n",
       "         2.38774531e-16,  2.38774531e-16,  1.00000000e+00,  1.00000000e+00,\n",
       "         1.00000000e+00,  2.00000000e+00,  2.00000000e+00,  2.00000000e+00,\n",
       "         2.00000000e+00,  2.00000000e+00,  2.00000000e+00]),\n",
       " array([-3.00000000e+00, -2.00000000e+00, -1.00000000e+00, -1.00000000e+00,\n",
       "         0.00000000e+00,  2.22044605e-15,  1.00000000e+00,  1.00000000e+00,\n",
       "         2.00000000e+00,  3.00000000e+00]))"
      ]
     },
     "execution_count": 203,
     "metadata": {},
     "output_type": "execute_result"
    }
   ],
   "source": [
    "E1_qutip, E_123"
   ]
  },
  {
   "cell_type": "code",
   "execution_count": 78,
   "id": "3cfb851f",
   "metadata": {},
   "outputs": [
    {
     "data": {
      "text/plain": [
       "-3.3946178162411136"
      ]
     },
     "execution_count": 78,
     "metadata": {},
     "output_type": "execute_result"
    }
   ],
   "source": [
    "p = np.sort(eigvals(Propagator).real)[-1]\n",
    "-np.log(p) / Δt"
   ]
  },
  {
   "cell_type": "code",
   "execution_count": 75,
   "id": "852d8f09",
   "metadata": {},
   "outputs": [
    {
     "name": "stdout",
     "output_type": "stream",
     "text": [
      "-1.414213562373095\n"
     ]
    }
   ],
   "source": [
    "from qutip import tensor, destroy, qeye\n",
    "\n",
    "def get_U_qutip(N):\n",
    "    \n",
    "    a1 = tensor(tensor(destroy(N), qeye(N)), qeye(N))\n",
    "    a2 = tensor(tensor(qeye(N), destroy(N)), qeye(N))\n",
    "    a3 = tensor(tensor(qeye(N), qeye(N)), destroy(N))\n",
    "\n",
    "    n1 = a1.dag() * a1\n",
    "    n2 = a2.dag() * a2\n",
    "    n3 = a3.dag() * a3\n",
    "\n",
    "    H = -(a1.dag() * a2 + a2.dag() * a1  + a2.dag() * a3 + a3.dag() * a2) + \\\n",
    "        U * (n1 * (n1 - 1) + n2 * (n2 - 1) + n3 * (n3 - 1))\n",
    "    \n",
    "    print(H.eigenenergies().min())\n",
    "    #return (-Δt * H).expm().eigenenergies()\n",
    "    \n",
    "    U_123 = (-Δt * (\n",
    "        -(a1.dag() * a2 + a2.dag() * a1) + U * n1 * (n1 - 1)\n",
    "        \n",
    "    )).expm()\n",
    "\n",
    "    U_231 = (-Δt * (\n",
    "        -( a2.dag() * a3 + a3.dag() * a2) + U * (n2 * (n2 - 1) + n3 * (n3 - 1))\n",
    "        \n",
    "    )).expm()\n",
    "\n",
    "    \n",
    "    return (U_231 * U_123).eigenenergies()\n",
    "    \n",
    "U_qutip = get_U_qutip(N)"
   ]
  },
  {
   "cell_type": "code",
   "execution_count": 76,
   "id": "8e6e8bee",
   "metadata": {},
   "outputs": [
    {
     "data": {
      "text/plain": [
       "-1.4145080613257948"
      ]
     },
     "execution_count": 76,
     "metadata": {},
     "output_type": "execute_result"
    }
   ],
   "source": [
    "-np.log(U_qutip.real.max()) /  Δt"
   ]
  },
  {
   "cell_type": "code",
   "execution_count": 72,
   "id": "27fce549",
   "metadata": {},
   "outputs": [
    {
     "data": {
      "text/plain": [
       "8"
      ]
     },
     "execution_count": 72,
     "metadata": {},
     "output_type": "execute_result"
    }
   ],
   "source": [
    "U_qutip.size"
   ]
  },
  {
   "cell_type": "code",
   "execution_count": null,
   "id": "fd767a62",
   "metadata": {},
   "outputs": [],
   "source": []
  }
 ],
 "metadata": {
  "kernelspec": {
   "display_name": "Python 3 (ipykernel)",
   "language": "python",
   "name": "python3"
  },
  "language_info": {
   "codemirror_mode": {
    "name": "ipython",
    "version": 3
   },
   "file_extension": ".py",
   "mimetype": "text/x-python",
   "name": "python",
   "nbconvert_exporter": "python",
   "pygments_lexer": "ipython3",
   "version": "3.9.13"
  }
 },
 "nbformat": 4,
 "nbformat_minor": 5
}
